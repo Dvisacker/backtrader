{
 "cells": [
  {
   "cell_type": "code",
   "execution_count": 1,
   "metadata": {},
   "outputs": [],
   "source": [
    "import ccxt\n",
    "import time\n",
    "import logging\n",
    "import pandas as pd\n",
    "import matplotlib.pyplot as plt\n",
    "import numpy as np\n",
    "from datetime import timedelta, datetime\n",
    "from utils import from_exchange_to_standard_notation, from_standard_to_exchange_notation\n",
    "from scipy import stats"
   ]
  },
  {
   "cell_type": "code",
   "execution_count": 2,
   "metadata": {},
   "outputs": [
    {
     "name": "stderr",
     "output_type": "stream",
     "text": [
      "/Users/davidvanisacker/backtest/lib/python3.7/site-packages/ipykernel_launcher.py:12: SettingWithCopyWarning: \n",
      "A value is trying to be set on a copy of a slice from a DataFrame.\n",
      "Try using .loc[row_indexer,col_indexer] = value instead\n",
      "\n",
      "See the caveats in the documentation: http://pandas.pydata.org/pandas-docs/stable/indexing.html#indexing-view-versus-copy\n",
      "  if sys.path[0] == '':\n"
     ]
    },
    {
     "data": {
      "text/html": [
       "<div>\n",
       "<style scoped>\n",
       "    .dataframe tbody tr th:only-of-type {\n",
       "        vertical-align: middle;\n",
       "    }\n",
       "\n",
       "    .dataframe tbody tr th {\n",
       "        vertical-align: top;\n",
       "    }\n",
       "\n",
       "    .dataframe thead th {\n",
       "        text-align: right;\n",
       "    }\n",
       "</style>\n",
       "<table border=\"1\" class=\"dataframe\">\n",
       "  <thead>\n",
       "    <tr style=\"text-align: right;\">\n",
       "      <th></th>\n",
       "      <th>timestamp</th>\n",
       "      <th>symbol</th>\n",
       "      <th>side</th>\n",
       "      <th>size</th>\n",
       "      <th>price</th>\n",
       "      <th>tickDirection</th>\n",
       "      <th>trdMatchID</th>\n",
       "      <th>grossValue</th>\n",
       "      <th>homeNotional</th>\n",
       "      <th>foreignNotional</th>\n",
       "      <th>time</th>\n",
       "    </tr>\n",
       "  </thead>\n",
       "  <tbody>\n",
       "    <tr>\n",
       "      <th>181756</th>\n",
       "      <td>2019-07-23D00:00:03.083772000</td>\n",
       "      <td>XBTUSD</td>\n",
       "      <td>Sell</td>\n",
       "      <td>1</td>\n",
       "      <td>10320.0</td>\n",
       "      <td>MinusTick</td>\n",
       "      <td>2ceb93f2-f0cb-8e7d-979b-14e8332107b7</td>\n",
       "      <td>9690</td>\n",
       "      <td>0.000097</td>\n",
       "      <td>1.0</td>\n",
       "      <td>2019-07-23 00:00:03.083772</td>\n",
       "    </tr>\n",
       "    <tr>\n",
       "      <th>181757</th>\n",
       "      <td>2019-07-23D00:00:03.606674000</td>\n",
       "      <td>XBTUSD</td>\n",
       "      <td>Buy</td>\n",
       "      <td>1293</td>\n",
       "      <td>10320.5</td>\n",
       "      <td>PlusTick</td>\n",
       "      <td>3685e334-9682-07a2-76f7-b482bdbc3a37</td>\n",
       "      <td>12527877</td>\n",
       "      <td>0.125279</td>\n",
       "      <td>1293.0</td>\n",
       "      <td>2019-07-23 00:00:03.606674</td>\n",
       "    </tr>\n",
       "    <tr>\n",
       "      <th>181758</th>\n",
       "      <td>2019-07-23D00:00:03.606674000</td>\n",
       "      <td>XBTUSD</td>\n",
       "      <td>Buy</td>\n",
       "      <td>2062</td>\n",
       "      <td>10320.5</td>\n",
       "      <td>ZeroPlusTick</td>\n",
       "      <td>07ed8590-0630-b435-fae6-5a985097353b</td>\n",
       "      <td>19978718</td>\n",
       "      <td>0.199787</td>\n",
       "      <td>2062.0</td>\n",
       "      <td>2019-07-23 00:00:03.606674</td>\n",
       "    </tr>\n",
       "    <tr>\n",
       "      <th>181759</th>\n",
       "      <td>2019-07-23D00:00:03.606674000</td>\n",
       "      <td>XBTUSD</td>\n",
       "      <td>Buy</td>\n",
       "      <td>1645</td>\n",
       "      <td>10320.5</td>\n",
       "      <td>ZeroPlusTick</td>\n",
       "      <td>7068ae6e-8f6c-c466-5f23-d3a481258384</td>\n",
       "      <td>15938405</td>\n",
       "      <td>0.159384</td>\n",
       "      <td>1645.0</td>\n",
       "      <td>2019-07-23 00:00:03.606674</td>\n",
       "    </tr>\n",
       "    <tr>\n",
       "      <th>181760</th>\n",
       "      <td>2019-07-23D00:00:03.773994000</td>\n",
       "      <td>XBTUSD</td>\n",
       "      <td>Buy</td>\n",
       "      <td>3355</td>\n",
       "      <td>10320.5</td>\n",
       "      <td>ZeroPlusTick</td>\n",
       "      <td>0ac37b58-3cd7-887e-51e0-b1976d7af90e</td>\n",
       "      <td>32506595</td>\n",
       "      <td>0.325066</td>\n",
       "      <td>3355.0</td>\n",
       "      <td>2019-07-23 00:00:03.773994</td>\n",
       "    </tr>\n",
       "  </tbody>\n",
       "</table>\n",
       "</div>"
      ],
      "text/plain": [
       "                            timestamp  symbol  side  size    price  \\\n",
       "181756  2019-07-23D00:00:03.083772000  XBTUSD  Sell     1  10320.0   \n",
       "181757  2019-07-23D00:00:03.606674000  XBTUSD   Buy  1293  10320.5   \n",
       "181758  2019-07-23D00:00:03.606674000  XBTUSD   Buy  2062  10320.5   \n",
       "181759  2019-07-23D00:00:03.606674000  XBTUSD   Buy  1645  10320.5   \n",
       "181760  2019-07-23D00:00:03.773994000  XBTUSD   Buy  3355  10320.5   \n",
       "\n",
       "       tickDirection                            trdMatchID  grossValue  \\\n",
       "181756     MinusTick  2ceb93f2-f0cb-8e7d-979b-14e8332107b7        9690   \n",
       "181757      PlusTick  3685e334-9682-07a2-76f7-b482bdbc3a37    12527877   \n",
       "181758  ZeroPlusTick  07ed8590-0630-b435-fae6-5a985097353b    19978718   \n",
       "181759  ZeroPlusTick  7068ae6e-8f6c-c466-5f23-d3a481258384    15938405   \n",
       "181760  ZeroPlusTick  0ac37b58-3cd7-887e-51e0-b1976d7af90e    32506595   \n",
       "\n",
       "        homeNotional  foreignNotional                       time  \n",
       "181756      0.000097              1.0 2019-07-23 00:00:03.083772  \n",
       "181757      0.125279           1293.0 2019-07-23 00:00:03.606674  \n",
       "181758      0.199787           2062.0 2019-07-23 00:00:03.606674  \n",
       "181759      0.159384           1645.0 2019-07-23 00:00:03.606674  \n",
       "181760      0.325066           3355.0 2019-07-23 00:00:03.773994  "
      ]
     },
     "execution_count": 2,
     "metadata": {},
     "output_type": "execute_result"
    }
   ],
   "source": [
    "data1 = pd.read_csv('tradedata/20190723.csv.gz')\n",
    "data2 = pd.read_csv('tradedata/20190724.csv.gz')\n",
    "data3 = pd.read_csv('tradedata/20190725.csv.gz')\n",
    "data4 = pd.read_csv('tradedata/20190726.csv.gz')\n",
    "\n",
    "data = data1\n",
    "data = data.append(data2)\n",
    "data = data.append(data3)\n",
    "data = data.append(data4)\n",
    "\n",
    "btc_data = data[data.symbol == 'XBTUSD']\n",
    "btc_data['time'] = btc_data.timestamp.map(lambda t: datetime.strptime(t[:-3], \"%Y-%m-%dD%H:%M:%S.%f\"))\n",
    "btc_data.set_index('time', inplace=True)\n",
    "btc_data.head()"
   ]
  },
  {
   "cell_type": "code",
   "execution_count": 3,
   "metadata": {},
   "outputs": [],
   "source": [
    "# def compute_vwap(df):\n",
    "#     q = df['foreignNotional']\n",
    "#     p = df['price']\n",
    "#     vwap = np.sum(p * q) / np.sum(q)\n",
    "#     df['vwap'] = vwap\n",
    "#     return df\n",
    "\n",
    "# data_timeidx = btc_data.set_index('time')\n",
    "# data_time_grp = data_timeidx.groupby(pd.Grouper(freq='15Min'))\n",
    "# num_time_bars = len(data_time_grp) # comes in handy later\n",
    "# data_time_vwap = data_time_grp.apply(compute_vwap)"
   ]
  },
  {
   "cell_type": "code",
   "execution_count": 4,
   "metadata": {},
   "outputs": [],
   "source": [
    "# total_ticks = len(btc_data)\n",
    "# num_ticks_per_bar = total_ticks / num_time_bars\n",
    "# num_ticks_per_bar = round(num_ticks_per_bar, -3) #round to nearest 1000\n",
    "# data_tick_grp = btc_data.reset_index().assign(grpId=lambda row: row.index // num_ticks_per_bar)\n",
    "# data_tick_vwap = data_tick_grp.groupby('grpId').apply(compute_vwap)\n",
    "# data_tick_vwap.set_index('time', inplace=True)"
   ]
  },
  {
   "cell_type": "code",
   "execution_count": 5,
   "metadata": {},
   "outputs": [],
   "source": [
    "# data_cm_vol = btc_data.assign(cmVol=btc_data['homeNotional'].cumsum()) \n",
    "# total_vol = data_cm_vol.cmVol.values[-1]\n",
    "# vol_per_bar = total_vol / num_time_bars\n",
    "# vol_per_bar = round(vol_per_bar, -2) # round to the nearest hundred\n",
    "# data_vol_grp = data_cm_vol.assign(grpId=lambda row: row.cmVol // vol_per_bar)\n",
    "# data_vol_vwap =  data_vol_grp.groupby('grpId').apply(compute_vwap)\n",
    "# data_vol_vwap.set_index('time', inplace=True)"
   ]
  },
  {
   "cell_type": "code",
   "execution_count": 6,
   "metadata": {},
   "outputs": [],
   "source": [
    "# data_cm_vol = btc_data.assign(cmVol=btc_data['foreignNotional'].cumsum()) \n",
    "# total_vol = data_cm_vol.cmVol.values[-1]\n",
    "# vol_per_bar = total_vol / num_time_bars\n",
    "# vol_per_bar = round(vol_per_bar, -2) # round to the nearest hundred\n",
    "# data_vol_grp = data_cm_vol.assign(grpId=lambda row: row.cmVol // vol_per_bar)\n",
    "# data_vol_vwap =  data_vol_grp.groupby('grpId').apply(compute_vwap)\n",
    "# data_vol_vwap.set_index('time', inplace=True)"
   ]
  },
  {
   "cell_type": "code",
   "execution_count": 24,
   "metadata": {},
   "outputs": [],
   "source": [
    "class BarSeries(object):\n",
    "    '''\n",
    "        Base class for resampling ticks dataframe into OHLC(V)\n",
    "        using different schemes. This particular class implements\n",
    "        standard time bars scheme.\n",
    "        See: https://www.wiley.com/en-it/Advances+in+Financial+Machine+Learning-p-9781119482086\n",
    "    '''\n",
    "    \n",
    "    def __init__(self, df, datetimecolumn = 'time'):\n",
    "        self.df = df\n",
    "        self.datetimecolumn = datetimecolumn\n",
    "    \n",
    "    def process_column(self, column_name, frequency):\n",
    "        return self.df[column_name].resample(frequency, label='right').ohlc()\n",
    "    \n",
    "    def process_volume(self, column_name, frequency):\n",
    "        return self.df[column_name].resample(frequency, label='right').sum()\n",
    "    \n",
    "    def process_ticks(self, price_column = 'price', volume_column = 'size', frequency = '5T'):\n",
    "        price_df = self.process_column(price_column, frequency)\n",
    "        volume_df = self.process_volume(volume_column, frequency)\n",
    "        price_df['volume'] = volume_df\n",
    "        return price_df\n",
    "    \n",
    "\n",
    "class TickBarSeries(BarSeries):\n",
    "    '''\n",
    "        Class for generating tick bars based on bid-ask-size dataframe\n",
    "    '''\n",
    "    def __init__(self, df, datetimecolumn = 'time', volume_column = 'size'):\n",
    "        self.volume_column = volume_column\n",
    "        super(TickBarSeries, self).__init__(df, datetimecolumn)\n",
    "    \n",
    "    def process_column(self, column_name, frequency):\n",
    "        res = []\n",
    "        for i in range(frequency, len(self.df), frequency):\n",
    "            sample = self.df.iloc[i-frequency:i]\n",
    "            v = sample[self.volume_column].values.sum()\n",
    "            o = sample[column_name].values.tolist()[0]\n",
    "            h = sample[column_name].values.max()\n",
    "            l = sample[column_name].values.min()\n",
    "            c = sample[column_name].values.tolist()[-1]\n",
    "            d = sample.index.values[-1]\n",
    "            \n",
    "            res.append({\n",
    "                self.datetimecolumn: d,\n",
    "                'open': o,\n",
    "                'high': h,\n",
    "                'low': l,\n",
    "                'close': c,\n",
    "                'volume': v\n",
    "            })\n",
    "\n",
    "        res = pd.DataFrame(res).set_index(self.datetimecolumn)\n",
    "        return res\n",
    "\n",
    "    \n",
    "    def process_ticks(self, price_column = 'price', volume_column = 'size', frequency = '15Min'):\n",
    "        price_df = self.process_column(price_column, frequency)\n",
    "        return price_df    \n",
    "    \n",
    "\n",
    "class VolumeBarSeries(BarSeries):\n",
    "    '''\n",
    "        Class for generating volume bars based on bid-ask-size dataframe\n",
    "    '''\n",
    "    def __init__(self, df, datetimecolumn = 'time', volume_column = 'size'):\n",
    "        self.volume_column = volume_column\n",
    "        super(VolumeBarSeries, self).__init__(df, datetimecolumn)\n",
    "               \n",
    "    def process_column(self, column_name, frequency):\n",
    "        res = []\n",
    "        buf = []\n",
    "        start_index = 0.\n",
    "        volume_buf = 0.\n",
    "        for i in range(len(self.df[column_name])):\n",
    "\n",
    "            pi = self.df[column_name].iloc[i]\n",
    "            vi = self.df[self.volume_column].iloc[i]\n",
    "            di = self.df.index.values[i]\n",
    "            \n",
    "            buf.append(pi)\n",
    "            volume_buf += vi\n",
    "            \n",
    "            if volume_buf >= frequency:\n",
    "                \n",
    "                o = buf[0]\n",
    "                h = np.max(buf)\n",
    "                l = np.min(buf)\n",
    "                c = buf[-1]\n",
    "                \n",
    "                res.append({\n",
    "                    self.datetimecolumn: di,\n",
    "                    'open': o,\n",
    "                    'high': h,\n",
    "                    'low': l,\n",
    "                    'close': c,  \n",
    "                    'volume': volume_buf\n",
    "                })\n",
    "                \n",
    "                buf, volume_buf = [], 0.\n",
    "\n",
    "        res = pd.DataFrame(res).set_index(self.datetimecolumn)\n",
    "        return res\n",
    "    \n",
    "    def process_ticks(self, price_column = 'price', volume_column = 'size', frequency = 10000):\n",
    "        price_df = self.process_column(price_column, frequency)\n",
    "        return price_df    \n",
    "    \n",
    "\n",
    "class DollarBarSeries(BarSeries):\n",
    "    '''\n",
    "        Class for generating \"dollar\" bars based on bid-ask-size dataframe\n",
    "    '''\n",
    "    def __init__(self, df, datetimecolumn = 'time', volume_column = 'size'):\n",
    "        self.volume_column = volume_column\n",
    "        super(DollarBarSeries, self).__init__(df, datetimecolumn)\n",
    "               \n",
    "    def process_column(self, column_name, frequency):\n",
    "        res = []\n",
    "        buf, vbuf = [], []\n",
    "        start_index = 0.\n",
    "        dollar_buf = 0.\n",
    "        for i in range(len(self.df[column_name])):\n",
    "\n",
    "            pi = self.df[column_name].iloc[i]\n",
    "            vi = self.df[self.volume_column].iloc[i]\n",
    "            di = self.df.index.values[i]\n",
    "            dvi = self.df['foreignNotional'].iloc[i]\n",
    "            buf.append(pi)\n",
    "            vbuf.append(vi)\n",
    "            dollar_buf += dvi\n",
    "            \n",
    "            if dollar_buf >= frequency:\n",
    "                \n",
    "                o = buf[0]\n",
    "                h = np.max(buf)\n",
    "                l = np.min(buf)\n",
    "                c = buf[-1]\n",
    "                v = np.sum(vbuf)\n",
    "                \n",
    "                res.append({\n",
    "                    self.datetimecolumn: di,\n",
    "                    'open': o,\n",
    "                    'high': h,\n",
    "                    'low': l,\n",
    "                    'close': c,\n",
    "                    'volume': v,\n",
    "                    'dollar': dollar_buf\n",
    "                })\n",
    "                \n",
    "                buf, vbuf, dollar_buf = [], [], 0.\n",
    "\n",
    "        res = pd.DataFrame(res).set_index(self.datetimecolumn)\n",
    "        return res \n",
    "    \n",
    "    def process_ticks(self, price_column = 'price', volume_column = 'size', frequency = 10000):\n",
    "        price_df = self.process_column(price_column, frequency)\n",
    "        return price_df\n",
    "    \n",
    "    \n",
    "    \n",
    "class BitcoinBarSeries(BarSeries):\n",
    "    '''\n",
    "        Class for generating \"dollar\" bars based on bid-ask-size dataframe\n",
    "    '''\n",
    "    def __init__(self, df, datetimecolumn = 'time', volume_column = 'size'):\n",
    "        self.volume_column = volume_column\n",
    "        super(BitcoinBarSeries, self).__init__(df, datetimecolumn)\n",
    "               \n",
    "    def process_column(self, column_name, frequency):\n",
    "        res = []\n",
    "        buf, vbuf = [], []\n",
    "        start_index = 0.\n",
    "        dollar_buf = 0.\n",
    "        for i in range(len(self.df[column_name])):\n",
    "\n",
    "            pi = self.df[column_name].iloc[i]\n",
    "            vi = self.df[self.volume_column].iloc[i]\n",
    "            di = self.df.index.values[i]\n",
    "            dvi = self.df['homeNotional'].iloc[i]\n",
    "            buf.append(pi)\n",
    "            vbuf.append(vi)\n",
    "            dollar_buf += dvi\n",
    "            \n",
    "            if dollar_buf >= frequency:\n",
    "                \n",
    "                o = buf[0]\n",
    "                h = np.max(buf)\n",
    "                l = np.min(buf)\n",
    "                c = buf[-1]\n",
    "                v = np.sum(vbuf)\n",
    "                \n",
    "                res.append({\n",
    "                    self.datetimecolumn: di,\n",
    "                    'open': o,\n",
    "                    'high': h,\n",
    "                    'low': l,\n",
    "                    'close': c,\n",
    "                    'volume': v,\n",
    "                    'dollar': dollar_buf\n",
    "                })\n",
    "                \n",
    "                buf, vbuf, dollar_buf = [], [], 0.\n",
    "\n",
    "        res = pd.DataFrame(res).set_index(self.datetimecolumn)\n",
    "        return res \n",
    "    \n",
    "    def process_ticks(self, price_column = 'price', volume_column = 'size', frequency = 10000):\n",
    "        price_df = self.process_column(price_column, frequency)\n",
    "        return price_df"
   ]
  },
  {
   "cell_type": "code",
   "execution_count": 32,
   "metadata": {},
   "outputs": [
    {
     "name": "stdout",
     "output_type": "stream",
     "text": [
      "1152\n"
     ]
    }
   ],
   "source": [
    "time_bars = BarSeries(btc_data).process_ticks(frequency='5min')\n",
    "num_timebars = time_bars.shape[0]\n",
    "print(num_timebars)"
   ]
  },
  {
   "cell_type": "code",
   "execution_count": 50,
   "metadata": {},
   "outputs": [],
   "source": [
    "volume_bars = VolumeBarSeries(btc_data).process_ticks(frequency=10000000)"
   ]
  },
  {
   "cell_type": "code",
   "execution_count": 51,
   "metadata": {},
   "outputs": [],
   "source": [
    "bitcoin_bars = BitcoinBarSeries(btc_data).process_ticks(frequency=1000)"
   ]
  },
  {
   "cell_type": "code",
   "execution_count": 10,
   "metadata": {},
   "outputs": [],
   "source": [
    "tick_bars = TickBarSeries(btc_data).process_ticks(frequency=2500)"
   ]
  },
  {
   "cell_type": "code",
   "execution_count": 52,
   "metadata": {},
   "outputs": [
    {
     "name": "stdout",
     "output_type": "stream",
     "text": [
      "1152\n",
      "1134\n",
      "1147\n",
      "1224\n"
     ]
    }
   ],
   "source": [
    "num_time_bars = time_bars.shape[0]\n",
    "num_volume_bars = volume_bars.shape[0]\n",
    "num_bitcoin_bars = bitcoin_bars.shape[0]\n",
    "num_tick_bars = tick_bars.shape[0]\n",
    "\n",
    "print(num_time_bars)\n",
    "print(num_volume_bars)\n",
    "print(num_bitcoin_bars)\n",
    "print(num_tick_bars)"
   ]
  },
  {
   "cell_type": "code",
   "execution_count": 53,
   "metadata": {},
   "outputs": [],
   "source": [
    "# Number of bars for normal 5 min candlesticks (for 4 days data)\n",
    "number_1_min_candles = 24 * 60 * 4 \n",
    "number_5_min_candles = 24 * 60 * 4 / 5\n",
    "number_15_min_candles = 24 * 60 * 4 / 15\n",
    "number_1h_candles = 24 * 4\n",
    "\n",
    "number_trades = btc_data.shape[0]"
   ]
  },
  {
   "cell_type": "code",
   "execution_count": 54,
   "metadata": {},
   "outputs": [
    {
     "name": "stderr",
     "output_type": "stream",
     "text": [
      "/Users/davidvanisacker/backtest/lib/python3.7/site-packages/matplotlib/axes/_axes.py:6521: MatplotlibDeprecationWarning: \n",
      "The 'normed' kwarg was deprecated in Matplotlib 2.1 and will be removed in 3.1. Use 'density' instead.\n",
      "  alternative=\"'density'\", removal=\"3.1\")\n"
     ]
    },
    {
     "data": {
      "image/png": "[encoded data removed]",
      "text/plain": [
       "<Figure size 1080x576 with 1 Axes>"
      ]
     },
     "metadata": {
      "needs_background": "light"
     },
     "output_type": "display_data"
    }
   ],
   "source": [
    "plt.figure(figsize = (15, 8))\n",
    "plt.hist(time_bars.close.pct_change().dropna().values.tolist(), label = 'Price bars', alpha = 0.5, normed=True, bins=50, range = (-0.01, 0.01))\n",
    "plt.legend()\n",
    "plt.show()"
   ]
  },
  {
   "cell_type": "code",
   "execution_count": 55,
   "metadata": {},
   "outputs": [
    {
     "data": {
      "image/png": "[encoded data removed]",
      "text/plain": [
       "<Figure size 1440x720 with 1 Axes>"
      ]
     },
     "metadata": {
      "needs_background": "light"
     },
     "output_type": "display_data"
    }
   ],
   "source": [
    "plt.figure(figsize = (20, 10))\n",
    "plt.hist(tick_bars.close.pct_change().dropna().values.tolist(), label = 'Tick bars', alpha = 0.5, normed=True, bins=50, range = (-0.01, 0.01))\n",
    "plt.legend()\n",
    "plt.show()"
   ]
  },
  {
   "cell_type": "code",
   "execution_count": 58,
   "metadata": {},
   "outputs": [
    {
     "name": "stderr",
     "output_type": "stream",
     "text": [
      "/Users/davidvanisacker/backtest/lib/python3.7/site-packages/matplotlib/axes/_axes.py:6521: MatplotlibDeprecationWarning: \n",
      "The 'normed' kwarg was deprecated in Matplotlib 2.1 and will be removed in 3.1. Use 'density' instead.\n",
      "  alternative=\"'density'\", removal=\"3.1\")\n"
     ]
    },
    {
     "data": {
      "image/png": "[encoded data removed]",
      "text/plain": [
       "<Figure size 1440x720 with 1 Axes>"
      ]
     },
     "metadata": {
      "needs_background": "light"
     },
     "output_type": "display_data"
    }
   ],
   "source": [
    "plt.figure(figsize = (20, 10))\n",
    "plt.hist(volume_bars.close.pct_change().dropna().values.tolist(), label = 'Volume bars', alpha = 0.5, normed=True, bins=50, range = (-0.01, 0.01))\n",
    "plt.legend()\n",
    "plt.show()"
   ]
  },
  {
   "cell_type": "code",
   "execution_count": 59,
   "metadata": {},
   "outputs": [
    {
     "data": {
      "image/png": "[encoded data removed]",
      "text/plain": [
       "<Figure size 1440x720 with 1 Axes>"
      ]
     },
     "metadata": {
      "needs_background": "light"
     },
     "output_type": "display_data"
    }
   ],
   "source": [
    "plt.figure(figsize = (20, 10))\n",
    "plt.hist(bitcoin_bars.close.pct_change().dropna().values.tolist(), label = 'Bitcoin bars', alpha = 0.5, normed=True, bins=50, range = (-0.01, 0.01))\n",
    "plt.legend()\n",
    "plt.show()"
   ]
  },
  {
   "cell_type": "code",
   "execution_count": 60,
   "metadata": {},
   "outputs": [
    {
     "name": "stderr",
     "output_type": "stream",
     "text": [
      "/Users/davidvanisacker/backtest/lib/python3.7/site-packages/matplotlib/axes/_axes.py:6521: MatplotlibDeprecationWarning: \n",
      "The 'normed' kwarg was deprecated in Matplotlib 2.1 and will be removed in 3.1. Use 'density' instead.\n",
      "  alternative=\"'density'\", removal=\"3.1\")\n"
     ]
    },
    {
     "data": {
      "image/png": "[encoded data removed]",
      "text/plain": [
       "<Figure size 1080x576 with 1 Axes>"
      ]
     },
     "metadata": {
      "needs_background": "light"
     },
     "output_type": "display_data"
    }
   ],
   "source": [
    "plt.figure(figsize = (15, 8))\n",
    "plt.hist(time_bars.close.pct_change().dropna().values.tolist(), label = 'Price bars', alpha = 0.5, normed=True, bins=50, range = (-0.01, 0.01))\n",
    "plt.hist(tick_bars.close.pct_change().dropna().values.tolist(), label = 'Tick bars', alpha = 0.4, normed=True, bins=50, range = (-0.01, 0.01))\n",
    "plt.hist(volume_bars.close.pct_change().dropna().values.tolist(), label = 'Volume bars', alpha = 0.4, normed=True, bins=50, range = (-0.01, 0.01))\n",
    "plt.hist(bitcoin_bars.close.pct_change().dropna().values.tolist(), label = 'Bitcoin bars', alpha = 0.4, normed=True, bins=50, range = (-0.01, 0.01))\n",
    "plt.legend()\n",
    "plt.show()"
   ]
  },
  {
   "cell_type": "code",
   "execution_count": 61,
   "metadata": {},
   "outputs": [
    {
     "name": "stdout",
     "output_type": "stream",
     "text": [
      "0.03246637256064176\n",
      "0.009694380784274122\n",
      "-0.020916406110078056\n",
      "0.011577258604619898\n",
      "--------------------\n",
      "--------------------\n",
      "4.384492724822793e-06\n",
      "4.352984434475505e-06\n",
      "4.933312807005391e-06\n",
      "4.678913101323937e-06\n"
     ]
    }
   ],
   "source": [
    "print(pd.Series.autocorr(time_bars.close.pct_change().dropna()))\n",
    "print(pd.Series.autocorr(tick_bars.close.pct_change().dropna()))\n",
    "print(pd.Series.autocorr(volume_bars.close.pct_change().dropna()))\n",
    "print(pd.Series.autocorr(bitcoin_bars.close.pct_change().dropna()))\n",
    "\n",
    "print('-' * 20)\n",
    "print('-' * 20)\n",
    "\n",
    "print(np.var(time_bars.close.pct_change().dropna()))\n",
    "print(np.var(tick_bars.close.pct_change().dropna()))\n",
    "print(np.var(volume_bars.close.pct_change().dropna()))\n",
    "print(np.var(bitcoin_bars.close.pct_change().dropna()))"
   ]
  },
  {
   "cell_type": "code",
   "execution_count": 62,
   "metadata": {},
   "outputs": [
    {
     "name": "stdout",
     "output_type": "stream",
     "text": [
      "(13641.333785521247, 0.0)\n",
      "(59.2258324055643, 1.3777867735598193e-13)\n",
      "(110.81351151713991, 0.0)\n",
      "(31.868916532204377, 1.2015800332498827e-07)\n"
     ]
    }
   ],
   "source": [
    "print(stats.jarque_bera(time_bars.close.pct_change().dropna()))\n",
    "print(stats.jarque_bera(tick_bars.close.pct_change().dropna()))\n",
    "print(stats.jarque_bera(volume_bars.close.pct_change().dropna()))\n",
    "print(stats.jarque_bera(bitcoin_bars.close.pct_change().dropna()))"
   ]
  },
  {
   "cell_type": "code",
   "execution_count": 63,
   "metadata": {},
   "outputs": [
    {
     "name": "stdout",
     "output_type": "stream",
     "text": [
      "          close     high      low     open    volume\n",
      "time                                                \n",
      "184255  10299.5  10320.5  10297.0  10320.0  10159702\n",
      "186755  10307.5  10307.5  10296.5  10299.5   4863528\n",
      "189255  10293.0  10320.5  10293.0  10307.5   5860810\n",
      "191755  10279.0  10293.0  10279.0  10293.0   6718649\n",
      "194255  10279.5  10280.0  10266.0  10279.0   7221684\n"
     ]
    }
   ],
   "source": [
    "print(tick_bars.head())"
   ]
  },
  {
   "cell_type": "code",
   "execution_count": 64,
   "metadata": {},
   "outputs": [
    {
     "data": {
      "image/png": "[encoded data removed]",
      "text/plain": [
       "<Figure size 1080x720 with 2 Axes>"
      ]
     },
     "execution_count": 64,
     "metadata": {},
     "output_type": "execute_result"
    },
    {
     "data": {
      "image/png": "[encoded data removed]",
      "text/plain": [
       "<Figure size 1080x720 with 2 Axes>"
      ]
     },
     "metadata": {
      "needs_background": "light"
     },
     "output_type": "display_data"
    }
   ],
   "source": [
    "from statsmodels.graphics.tsaplots import plot_acf, plot_pacf\n",
    "\n",
    "fig, ax = plt.subplots(2, figsize=(15,10))\n",
    "time_bar_returns = time_bars.close.pct_change().dropna()\n",
    "tick_bar_returns= tick_bars.close.pct_change().dropna()\n",
    "volume_bar_returns= volume_bars.close.pct_change().dropna()\n",
    "bitcoin_bars_returns= bitcoin_bars.close.pct_change().dropna()\n",
    "\n",
    "plot_acf(tick_bar_returns, ax=ax[0], lags=20)\n",
    "plot_pacf(tick_bar_returns, ax=ax[1], lags=20)"
   ]
  },
  {
   "cell_type": "code",
   "execution_count": null,
   "metadata": {},
   "outputs": [],
   "source": []
  }
 ],
 "metadata": {
  "kernelspec": {
   "display_name": "Python 3",
   "language": "python",
   "name": "python3"
  },
  "language_info": {
   "codemirror_mode": {
    "name": "ipython",
    "version": 3
   },
   "file_extension": ".py",
   "mimetype": "text/x-python",
   "name": "python",
   "nbconvert_exporter": "python",
   "pygments_lexer": "ipython3",
   "version": "3.7.0"
  },
  "toc": {
   "base_numbering": 1,
   "nav_menu": {},
   "number_sections": true,
   "sideBar": true,
   "skip_h1_title": false,
   "title_cell": "Table of Contents",
   "title_sidebar": "Contents",
   "toc_cell": false,
   "toc_position": {},
   "toc_section_display": true,
   "toc_window_display": false
  },
  "varInspector": {
   "cols": {
    "lenName": 16,
    "lenType": 16,
    "lenVar": 40
   },
   "kernels_config": {
    "python": {
     "delete_cmd_postfix": "",
     "delete_cmd_prefix": "del ",
     "library": "var_list.py",
     "varRefreshCmd": "print(var_dic_list())"
    },
    "r": {
     "delete_cmd_postfix": ") ",
     "delete_cmd_prefix": "rm(",
     "library": "var_list.r",
     "varRefreshCmd": "cat(var_dic_list()) "
    }
   },
   "types_to_exclude": [
    "module",
    "function",
    "builtin_function_or_method",
    "instance",
    "_Feature"
   ],
   "window_display": false
  }
 },
 "nbformat": 4,
 "nbformat_minor": 2
}
