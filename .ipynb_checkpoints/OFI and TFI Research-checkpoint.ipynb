{
 "cells": [
  {
   "cell_type": "code",
   "execution_count": 151,
   "metadata": {},
   "outputs": [],
   "source": [
    "import ccxt\n",
    "import time\n",
    "import logging\n",
    "import pandas as pd\n",
    "import matplotlib.pyplot as plt\n",
    "import statsmodels.api as sm\n",
    "import numpy as np\n",
    "from datetime import timedelta, datetime\n",
    "from utils import from_exchange_to_standard_notation, from_standard_to_exchange_notation\n",
    "from statsmodels.graphics.tsaplots import plot_acf, plot_pacf\n",
    "from scipy import stats\n",
    "import warnings\n",
    "\n",
    "\n",
    "plt.rcParams['figure.figsize'] = 15,10\n",
    "warnings.filterwarnings('ignore')"
   ]
  },
  {
   "cell_type": "code",
   "execution_count": 138,
   "metadata": {},
   "outputs": [],
   "source": [
    "quotes_data_1 = pd.read_csv('data/absquote_data/20190701.csv.gz')\n",
    "quotes_data_2 = pd.read_csv('data/absquote_data/20190702.csv.gz')\n",
    "quotes_data_3 = pd.read_csv('data/absquote_data/20190703.csv.gz')\n",
    "quotes_data_4 = pd.read_csv('data/absquote_data/20190704.csv.gz')\n",
    "quotes_data_5 = pd.read_csv('data/absquote_data/20190705.csv.gz')\n",
    "\n",
    "trades_data_1 = pd.read_csv('data/tick_data/20190701.csv.gz')\n",
    "trades_data_2 = pd.read_csv('data/tick_data/20190702.csv.gz')\n",
    "trades_data_3 = pd.read_csv('data/tick_data/20190703.csv.gz')\n",
    "trades_data_4 = pd.read_csv('data/tick_data/20190704.csv.gz')\n",
    "trades_data_5 = pd.read_csv('data/tick_data/20190705.csv.gz')\n"
   ]
  },
  {
   "cell_type": "code",
   "execution_count": 245,
   "metadata": {},
   "outputs": [],
   "source": [
    "btc_trade_data = trades_data[trades_data.symbol == 'XBTUSD']\n",
    "btc_trade_data['time'] = btc_trade_data.timestamp.map(lambda t: datetime.strptime(t[:-3], \"%Y-%m-%dD%H:%M:%S.%f\"))\n",
    "btc_trade_data.set_index('time', inplace=True)\n",
    "\n",
    "btc_quotes_data = quotes_data[quotes_data.symbol == 'XBTUSD']\n",
    "btc_quotes_data['time'] = btc_quotes_data.timestamp.map(lambda t: datetime.strptime(t[:-3], \"%Y-%m-%dD%H:%M:%S.%f\"))\n",
    "btc_quotes_data.set_index('time', inplace=True)\n",
    "\n",
    "eosbtc_trade_data = trades_data[trades_data.symbol == 'EOSU19']\n",
    "eosbtc_trade_data['time'] = eosbtc_trade_data.timestamp.map(lambda t: datetime.strptime(t[:-3], \"%Y-%m-%dD%H:%M:%S.%f\"))\n",
    "eosbtc_trade_data.set_index('time', inplace=True)\n",
    "\n",
    "eosbtc_quotes_data = quotes_data[quotes_data.symbol == 'EOSU19']\n",
    "eosbtc_quotes_data['time'] = eosbtc_quotes_data.timestamp.map(lambda t: datetime.strptime(t[:-3], \"%Y-%m-%dD%H:%M:%S.%f\"))\n",
    "eosbtc_quotes_data.set_index('time', inplace=True)\n",
    "\n",
    "ethusd_trade_data = trades_data[trades_data.symbol == 'ETHUSD']\n",
    "ethusd_trade_data['time'] = ethusd_trade_data.timestamp.map(lambda t: datetime.strptime(t[:-3], \"%Y-%m-%dD%H:%M:%S.%f\"))\n",
    "ethusd_trade_data.set_index('time', inplace=True)\n",
    "\n",
    "ethusd_quotes_data = quotes_data[quotes_data.symbol == 'ETHUSD']\n",
    "ethusd_quotes_data['time'] = ethusd_quotes_data.timestamp.map(lambda t: datetime.strptime(t[:-3], \"%Y-%m-%dD%H:%M:%S.%f\"))\n",
    "ethusd_quotes_data.set_index('time', inplace=True)\n",
    "\n",
    "ltcbtc_trade_data = trades_data[trades_data.symbol == 'LTCU19']\n",
    "ltcbtc_trade_data['time'] = ltcbtc_trade_data.timestamp.map(lambda t: datetime.strptime(t[:-3], \"%Y-%m-%dD%H:%M:%S.%f\"))\n",
    "ltcbtc_trade_data.set_index('time', inplace=True)\n",
    "\n",
    "ltcbtc_quotes_data = quotes_data[quotes_data.symbol == 'LTCU19']\n",
    "ltcbtc_quotes_data['time'] = ltcbtc_quotes_data.timestamp.map(lambda t: datetime.strptime(t[:-3], \"%Y-%m-%dD%H:%M:%S.%f\"))\n",
    "ltcbtc_quotes_data.set_index('time', inplace=True)\n",
    "\n",
    "trxbtc_trade_data = trades_data[trades_data.symbol == 'TRXU19']\n",
    "trxbtc_trade_data['time'] = trxbtc_trade_data.timestamp.map(lambda t: datetime.strptime(t[:-3], \"%Y-%m-%dD%H:%M:%S.%f\"))\n",
    "trxbtc_trade_data.set_index('time', inplace=True)\n",
    "\n",
    "trxbtc_quotes_data = quotes_data[quotes_data.symbol == 'TRXU19']\n",
    "trxbtc_quotes_data['time'] = trxbtc_quotes_data.timestamp.map(lambda t: datetime.strptime(t[:-3], \"%Y-%m-%dD%H:%M:%S.%f\"))\n",
    "trxbtc_quotes_data.set_index('time', inplace=True)"
   ]
  },
  {
   "cell_type": "code",
   "execution_count": 266,
   "metadata": {},
   "outputs": [
    {
     "name": "stdout",
     "output_type": "stream",
     "text": [
      "                       timestamp  symbol  bidSize  bidPrice  askPrice  askSize\n",
      "0  2019-07-01D00:00:04.824022000  ADAU19   484996  0.000008  0.000008   468117\n",
      "1  2019-07-01D00:00:07.683364000  ADAU19   477702  0.000008  0.000008   468117\n",
      "2  2019-07-01D00:00:08.863448000  ADAU19   447296  0.000008  0.000008   468117\n",
      "3  2019-07-01D00:00:09.284599000  ADAU19   437296  0.000008  0.000008   468117\n",
      "4  2019-07-01D00:00:09.318212000  ADAU19   365669  0.000008  0.000008   468117\n"
     ]
    }
   ],
   "source": [
    "print(quotes_data.head())"
   ]
  },
  {
   "cell_type": "code",
   "execution_count": 267,
   "metadata": {},
   "outputs": [
    {
     "name": "stdout",
     "output_type": "stream",
     "text": [
      "                       timestamp  symbol  side    size     price  \\\n",
      "0  2019-07-01D00:00:24.669962000  ADAU19  Sell    1170  0.000008   \n",
      "1  2019-07-01D00:00:27.009180000  ADAU19   Buy     799  0.000008   \n",
      "2  2019-07-01D00:00:29.341412000  ADAU19  Sell  127265  0.000008   \n",
      "3  2019-07-01D00:00:29.341412000  ADAU19  Sell       1  0.000008   \n",
      "4  2019-07-01D00:00:29.341412000  ADAU19  Sell    4000  0.000008   \n",
      "\n",
      "   tickDirection                            trdMatchID  grossValue  \\\n",
      "0      MinusTick  8a586e56-7e71-bb6b-b103-74907cac59bc      904410   \n",
      "1       PlusTick  18857a7d-b037-f938-8eab-e9b4ab7fb463      618426   \n",
      "2      MinusTick  fc707d42-685f-25b7-885f-ae13b424ae59    98375845   \n",
      "3  ZeroMinusTick  7dca78b3-247f-ce4e-ddca-bb97fbf52798         773   \n",
      "4  ZeroMinusTick  27b896ad-bf79-5ae8-4478-d54eb04e6fa8     3092000   \n",
      "\n",
      "   homeNotional  foreignNotional  \n",
      "0        1170.0         0.009044  \n",
      "1         799.0         0.006184  \n",
      "2      127265.0         0.983758  \n",
      "3           1.0         0.000008  \n",
      "4        4000.0         0.030920  \n"
     ]
    }
   ],
   "source": [
    "print(trades_data.head())"
   ]
  },
  {
   "cell_type": "code",
   "execution_count": 225,
   "metadata": {},
   "outputs": [],
   "source": [
    "class OrderBookBarSeries(BarSeries):\n",
    "    def __init__(self, quotes, ticks, datetimecolumn='time'):\n",
    "        self.quotes = quotes\n",
    "        self.ticks = ticks\n",
    "        self.datetimecolumn = datetimecolumn\n",
    "\n",
    "    def process_column(self, column_name, frequency):\n",
    "        return self.ticks[column_name].resample(frequency, label='right').ohlc()\n",
    "\n",
    "    def process_volume(self, column_name, frequency):\n",
    "        return self.ticks[column_name].resample(frequency, label='right').sum()\n",
    "\n",
    "    def process_ofi(self, frequency):\n",
    "        quotes_df = self.quotes.copy().reset_index()\n",
    "        quotes_df['midprice'] = ((quotes_df['bidPrice'] + quotes_df['askPrice']) / 2)\n",
    "        quotes_df['midprice_returns'] = quotes_df['midprice'].diff()\n",
    "        quotes_df['prevBidPrice'] = quotes_df['bidPrice'].shift()\n",
    "        quotes_df['prevBidSize'] = quotes_df['bidSize'].shift()\n",
    "        quotes_df['prevAskPrice'] = quotes_df['askPrice'].shift()\n",
    "        quotes_df['prevAskSize'] = quotes_df['askSize'].shift()\n",
    "\n",
    "        quotes_df.dropna(inplace=True)\n",
    "        bid_geq = quotes_df['bidPrice'] >= quotes_df['prevBidPrice']\n",
    "        bid_leq = quotes_df['bidPrice'] <= quotes_df['prevBidPrice']\n",
    "        ask_geq = quotes_df['askPrice'] >= quotes_df['prevAskPrice']\n",
    "        ask_leq = quotes_df['askPrice'] <= quotes_df['prevAskPrice']\n",
    "\n",
    "        quotes_df['ofi'] = pd.Series(np.zeros(len(quotes_df)))\n",
    "        quotes_df['ofi'].loc[bid_geq] += quotes_df['bidSize'].loc[bid_geq]\n",
    "        quotes_df['ofi'].loc[bid_leq] -= quotes_df['prevBidSize'].loc[bid_leq]\n",
    "        quotes_df['ofi'].loc[ask_geq] += quotes_df['prevAskSize'][ask_geq]\n",
    "        quotes_df['ofi'].loc[ask_leq] -= quotes_df['askSize'][ask_leq]\n",
    "\n",
    "        quotes_df = quotes_df.set_index('time')\n",
    "        quotes_df = quotes_df[['midprice_returns','ofi']].resample(frequency).sum().dropna()\n",
    "        return quotes_df\n",
    "\n",
    "    def process_tfi(self, frequency):\n",
    "        trades_df = self.ticks.copy()\n",
    "        trades_df['signed_size'] = np.where(trades_df['side'] == 'Buy', trades_df['size'], -trades_df['size'])\n",
    "        tfi = trades_df['signed_size'].resample(frequency).sum().dropna()\n",
    "        return tfi\n",
    "\n",
    "    def process_ticks(self, price_column='price', volume_column='size', frequency='5T'):\n",
    "        price_df = self.process_column(price_column, frequency)\n",
    "        volume_df = self.process_volume(volume_column, frequency)\n",
    "        quotes_df = self.process_ofi(frequency)\n",
    "        tfi = self.process_tfi(frequency)\n",
    "\n",
    "        price_df['volume'] = volume_df\n",
    "        price_df['ofi'] = quotes_df['ofi']\n",
    "        price_df['tfi'] = tfi\n",
    "        price_df['midprice_returns'] = quotes_df['midprice_returns']\n",
    "\n",
    "        return price_df\n",
    "    \n"
   ]
  },
  {
   "cell_type": "code",
   "execution_count": 246,
   "metadata": {},
   "outputs": [],
   "source": [
    "# btcusd_bars_1m = OrderBookBarSeries(btc_quotes_data, btc_trade_data).process_ticks(frequency='1T')\n",
    "# btcusd_bars_5m = OrderBookBarSeries(btc_quotes_data, btc_trade_data).process_ticks(frequency='5T')\n",
    "# btcusd_bars_15m = OrderBookBarSeries(btc_quotes_data, btc_trade_data).process_ticks(frequency='15T')\n",
    "# btcusd_bars_10s = OrderBookBarSeries(btc_quotes_data, btc_trade_data).process_ticks(frequency='10S')\n",
    "\n",
    "# eosbtc_bars_1m = OrderBookBarSeries(eosbtc_quotes_data, eosbtc_trade_data).process_ticks(frequency='1T')\n",
    "# eosbtc_bars_5m = OrderBookBarSeries(eosbtc_quotes_data, eosbtc_trade_data).process_ticks(frequency='5T')\n",
    "# eosbtc_bars_15m = OrderBookBarSeries(eosbtc_quotes_data, eosbtc_trade_data).process_ticks(frequency='15T')\n",
    "# eosbtc_bars_10s = OrderBookBarSeries(eosbtc_quotes_data, eosbtc_trade_data).process_ticks(frequency='10S')\n",
    "\n",
    "# ethusd_bars_1m = OrderBookBarSeries(ethusd_quotes_data, ethusd_trade_data).process_ticks(frequency='1T')\n",
    "# ethusd_bars_5m = OrderBookBarSeries(ethusd_quotes_data, ethusd_trade_data).process_ticks(frequency='5T')\n",
    "# ethusd_bars_15m = OrderBookBarSeries(ethusd_quotes_data, ethusd_trade_data).process_ticks(frequency='15T')\n",
    "# ethusd_bars_10s = OrderBookBarSeries(ethusd_quotes_data, ethusd_trade_data).process_ticks(frequency='10S')\n",
    "\n",
    "ltcbtc_bars_1m = OrderBookBarSeries(ltcbtc_quotes_data, ltcbtc_trade_data).process_ticks(frequency='1T')\n",
    "ltcbtc_bars_5m = OrderBookBarSeries(ltcbtc_quotes_data, ltcbtc_trade_data).process_ticks(frequency='5T')\n",
    "ltcbtc_bars_15m = OrderBookBarSeries(ltcbtc_quotes_data, ltcbtc_trade_data).process_ticks(frequency='15T')\n",
    "ltcbtc_bars_10s = OrderBookBarSeries(ltcbtc_quotes_data, ltcbtc_trade_data).process_ticks(frequency='10S')\n",
    "\n",
    "trxbtc_bars_1m = OrderBookBarSeries(trxbtc_quotes_data, trxbtc_trade_data).process_ticks(frequency='1T')\n",
    "trxbtc_bars_5m = OrderBookBarSeries(trxbtc_quotes_data, trxbtc_trade_data).process_ticks(frequency='5T')\n",
    "trxbtc_bars_15m = OrderBookBarSeries(trxbtc_quotes_data, trxbtc_trade_data).process_ticks(frequency='15T')\n",
    "trxbtc_bars_10s = OrderBookBarSeries(trxbtc_quotes_data, trxbtc_trade_data).process_ticks(frequency='10S')"
   ]
  },
  {
   "cell_type": "code",
   "execution_count": 259,
   "metadata": {},
   "outputs": [],
   "source": [
    "def fit_next_returns_to_ofi(df, lag=1):\n",
    "    df['next_midprice_returns'] = df.midprice_returns.shift(lag)\n",
    "    \n",
    "    df.dropna(inplace=True)\n",
    "    df.plot(kind='scatter', grid=True, \n",
    "                            x='ofi', y='next_midprice_returns', \n",
    "                            title = 'Returns/OFI Correlation',\n",
    "                            alpha=0.5, figsize=(12,10))\n",
    "    \n",
    "    \n",
    "    ofi_ = sm.add_constant(df['ofi'])\n",
    "    ols = sm.OLS(df.next_midprice_returns, ofi_).fit()\n",
    "    print(ols.summary2())\n",
    "    \n",
    "def fit_next_returns_to_tfi(tf, midprice_returns, lag=1):\n",
    "    df = pd.concat([midprice_returns,tf], axis = 1)\n",
    "    df['next_midprice_returns'] = df.midprice_returns.shift(lag)\n",
    "    df.dropna(inplace=True)        \n",
    "    df.plot(kind='scatter', grid=True, x='tfi', y='next_midprice_returns',\n",
    "            title = 'TFI/Returns correlation', alpha=0.5, figsize=(12,10))\n",
    "    \n",
    "    tfi = sm.add_constant(df['tfi'])\n",
    "    \n",
    "      \n",
    "    ols = sm.OLS(df.next_midprice_returns, tfi).fit()\n",
    "    print(ols.summary2())\n",
    "    \n",
    "\n",
    "def fit_returns_to_ofi(df, lag=1):\n",
    "    df['next_midprice_returns'] = df.midprice_returns.shift(lag)\n",
    "    \n",
    "    df.dropna(inplace=True)\n",
    "    df.plot(kind='scatter', grid=True, x='ofi', y='midprice_returns', \n",
    "            title = 'Returns/OFI Correlation', alpha=0.5, figsize=(12,10))\n",
    "    \n",
    "    ofi_ = sm.add_constant(df['ofi'])\n",
    "    ols = sm.OLS(df.midprice_returns, ofi_).fit()\n",
    "    print(ols.summary2())\n",
    "    \n",
    "def fit_returns_to_tfi(df, lag=1):\n",
    "    df['next_midprice_returns'] = df.midprice_returns.shift(lag)\n",
    "    df.dropna(inplace=True)        \n",
    "    df.plot(kind='scatter', grid=True, x='tfi', y='midprice_returns',\n",
    "            title = 'TFI/Returns correlation', alpha=0.5, figsize=(12,10))\n",
    "    \n",
    "    tfi = sm.add_constant(df['tfi'])\n",
    "    \n",
    "      \n",
    "    ols = sm.OLS(df.midprice_returns, tfi).fit()\n",
    "    print(ols.summary2())\n",
    "    \n",
    "\n",
    "def fit_returns_to_lagged_tfi(df, maxlag=5):\n",
    "    df['tfi_lagged_1'] = df.tfi.shift(1)\n",
    "    df['tfi_lagged_2'] = df.tfi.shift(2)\n",
    "    df['tfi_lagged_3'] = df.tfi.shift(3)\n",
    "    df['midprice_returns_lagged_1'] = df.midprice_returns.shift(1)\n",
    "    df['midprice_returns_lagged_2'] = df.midprice_returns.shift(2)\n",
    "    df['midprice_returns_lagged_3'] = df.midprice_returns.shift(3)\n",
    "    df.dropna(inplace=True)\n",
    "    \n",
    "    X = df[['tfi_lagged_1', 'tfi_lagged_2', 'tfi_lagged_3', \n",
    "            'midprice_returns_lagged_1', 'midprice_returns_lagged_2', 'midprice_returns_lagged_3']]\n",
    "    X = sm.add_constant(X)\n",
    "    \n",
    "    ols = sm.OLS(df.midprice_returns, X).fit()\n",
    "    print(ols.summary2())\n",
    "    \n",
    "def fit_model(bars, btc_bars):\n",
    "    bars['tfi_lagged_1'] = bars.tfi.shift(1)\n",
    "    bars['tfi_lagged_2'] = bars.tfi.shift(2)\n",
    "    bars['tfi_lagged_3'] = bars.tfi.shift(3)\n",
    "    bars['midprice_returns_lagged_1'] = bars.midprice_returns.shift(1)\n",
    "    bars['midprice_returns_lagged_2'] = bars.midprice_returns.shift(2)\n",
    "    bars['midprice_returns_lagged_3'] = bars.midprice_returns.shift(3)\n",
    "    bars['btc_returns_lagged_1'] = btc_bars.midprice_returns.shift(1)\n",
    "    bars['btc_returns_lagged_2'] = btc_bars.midprice_returns.shift(2)\n",
    "    bars['btc_returns_lagged_3'] = btc_bars.midprice_returns.shift(3)\n",
    "    bars.dropna(inplace=True)\n",
    "    \n",
    "    X = bars[['tfi_lagged_1', 'tfi_lagged_2', 'tfi_lagged_3', \n",
    "            'midprice_returns_lagged_1', 'midprice_returns_lagged_2', 'midprice_returns_lagged_3',\n",
    "            'btc_returns_lagged_1', 'btc_returns_lagged_2', 'btc_returns_lagged_3']]\n",
    "    X = sm.add_constant(X)\n",
    "    \n",
    "    ols = sm.OLS(bars.midprice_returns, X).fit()\n",
    "    print(ols.summary2())"
   ]
  },
  {
   "cell_type": "code",
   "execution_count": 268,
   "metadata": {},
   "outputs": [
    {
     "name": "stdout",
     "output_type": "stream",
     "text": [
      "                    Results: Ordinary least squares\n",
      "========================================================================\n",
      "Model:                 OLS                Adj. R-squared:       -0.049  \n",
      "Dependent Variable:    midprice_returns   AIC:                  338.0840\n",
      "Date:                  2019-08-05 16:43   BIC:                  362.6275\n",
      "No. Observations:      86                 Log-Likelihood:       -159.04 \n",
      "Df Model:              9                  F-statistic:          0.5609  \n",
      "Df Residuals:          76                 Prob (F-statistic):   0.825   \n",
      "R-squared:             0.062              Scale:                2.6762  \n",
      "------------------------------------------------------------------------\n",
      "                           Coef.  Std.Err.    t    P>|t|   [0.025 0.975]\n",
      "------------------------------------------------------------------------\n",
      "const                      0.0083   0.1822  0.0457 0.9637 -0.3546 0.3713\n",
      "tfi_lagged_1              -0.0000   0.0000 -0.5718 0.5691 -0.0000 0.0000\n",
      "tfi_lagged_2               0.0000   0.0000  0.5698 0.5705 -0.0000 0.0000\n",
      "tfi_lagged_3               0.0000   0.0000  0.0561 0.9554 -0.0000 0.0000\n",
      "midprice_returns_lagged_1 -0.1202   0.2616 -0.4596 0.6471 -0.6413 0.4008\n",
      "midprice_returns_lagged_2 -0.1970   0.2668 -0.7384 0.4625 -0.7284 0.3344\n",
      "midprice_returns_lagged_3 -0.3433   0.2698 -1.2725 0.2071 -0.8808 0.1941\n",
      "btc_returns_lagged_1       0.0039   0.0050  0.7757 0.4403 -0.0061 0.0138\n",
      "btc_returns_lagged_2       0.0017   0.0046  0.3731 0.7101 -0.0075 0.0110\n",
      "btc_returns_lagged_3       0.0084   0.0048  1.7444 0.0851 -0.0012 0.0179\n",
      "------------------------------------------------------------------------\n",
      "Omnibus:                0.432          Durbin-Watson:             1.948 \n",
      "Prob(Omnibus):          0.806          Jarque-Bera (JB):          0.466 \n",
      "Skew:                   0.163          Prob(JB):                  0.792 \n",
      "Kurtosis:               2.844          Condition No.:             698464\n",
      "========================================================================\n",
      "* The condition number is large (7e+05). This might indicate\n",
      "strong multicollinearity or other numerical problems.\n"
     ]
    }
   ],
   "source": [
    "fit_model(ethusd_bars_15m, btcusd_bars_15m)"
   ]
  },
  {
   "cell_type": "code",
   "execution_count": 211,
   "metadata": {},
   "outputs": [
    {
     "name": "stdout",
     "output_type": "stream",
     "text": [
      "                 Results: Ordinary least squares\n",
      "==================================================================\n",
      "Model:              OLS              Adj. R-squared:     0.524    \n",
      "Dependent Variable: midprice_returns AIC:                2756.4715\n",
      "Date:               2019-08-05 15:52 BIC:                2763.7553\n",
      "No. Observations:   282              Log-Likelihood:     -1376.2  \n",
      "Df Model:           1                F-statistic:        309.9    \n",
      "Df Residuals:       280              Prob (F-statistic): 3.24e-47 \n",
      "R-squared:          0.525            Scale:              1022.3   \n",
      "--------------------------------------------------------------------\n",
      "             Coef.    Std.Err.      t      P>|t|     [0.025   0.975]\n",
      "--------------------------------------------------------------------\n",
      "const       -2.1476     1.9045   -1.1276   0.2604   -5.8966   1.6015\n",
      "ofi          0.0000     0.0000   17.6039   0.0000    0.0000   0.0000\n",
      "------------------------------------------------------------------\n",
      "Omnibus:             45.500       Durbin-Watson:          1.612   \n",
      "Prob(Omnibus):       0.000        Jarque-Bera (JB):       345.347 \n",
      "Skew:                0.306        Prob(JB):               0.000   \n",
      "Kurtosis:            8.387        Condition No.:          20921790\n",
      "==================================================================\n",
      "* The condition number is large (2e+07). This might indicate\n",
      "strong multicollinearity or other numerical problems.\n"
     ]
    },
    {
     "data": {
      "image/png": "[encoded data removed]",
      "text/plain": [
       "<Figure size 864x720 with 1 Axes>"
      ]
     },
     "metadata": {
      "needs_background": "light"
     },
     "output_type": "display_data"
    }
   ],
   "source": [
    "fit_returns_to_ofi(btcusd_bars_5m)"
   ]
  },
  {
   "cell_type": "code",
   "execution_count": 101,
   "metadata": {},
   "outputs": [
    {
     "name": "stdout",
     "output_type": "stream",
     "text": [
      "                     lagged_tfi  midprice_returns\n",
      "time                                             \n",
      "2019-07-01 00:10:00    847261.0            135.25\n",
      "2019-07-01 00:15:00  15987628.0              0.25\n",
      "2019-07-01 00:20:00   -578623.0             20.00\n",
      "2019-07-01 00:25:00    219575.0             16.50\n",
      "2019-07-01 00:30:00  -1752622.0            -54.50\n",
      "                     lagged_tfi  midprice_returns\n",
      "time                                             \n",
      "2019-07-01 23:35:00   9145647.0             -33.5\n",
      "2019-07-01 23:40:00  -6607338.0             -24.5\n",
      "2019-07-01 23:45:00  -2726916.0               8.0\n",
      "2019-07-01 23:50:00   1313639.0               8.0\n",
      "2019-07-01 23:55:00   -950940.0               4.5\n"
     ]
    },
    {
     "ename": "MissingDataError",
     "evalue": "exog contains inf or nans",
     "output_type": "error",
     "traceback": [
      "\u001b[0;31m---------------------------------------------------------------------------\u001b[0m",
      "\u001b[0;31mMissingDataError\u001b[0m                          Traceback (most recent call last)",
      "\u001b[0;32m<ipython-input-101-f11d6c8ed158>\u001b[0m in \u001b[0;36m<module>\u001b[0;34m\u001b[0m\n\u001b[0;32m----> 1\u001b[0;31m \u001b[0mplot_tfi_and_ols_summary\u001b[0m\u001b[0;34m(\u001b[0m\u001b[0mtfi\u001b[0m\u001b[0;34m,\u001b[0m \u001b[0mreturns\u001b[0m\u001b[0;34m,\u001b[0m \u001b[0;34m'5min'\u001b[0m\u001b[0;34m)\u001b[0m\u001b[0;34m\u001b[0m\u001b[0m\n\u001b[0m",
      "\u001b[0;32m<ipython-input-99-e9f398fb3ae5>\u001b[0m in \u001b[0;36mplot_tfi_and_ols_summary\u001b[0;34m(tf, dmid, dt, lag)\u001b[0m\n\u001b[1;32m     11\u001b[0m \u001b[0;34m\u001b[0m\u001b[0m\n\u001b[1;32m     12\u001b[0m     \u001b[0mtf_\u001b[0m \u001b[0;34m=\u001b[0m \u001b[0msm\u001b[0m\u001b[0;34m.\u001b[0m\u001b[0madd_constant\u001b[0m\u001b[0;34m(\u001b[0m\u001b[0mlagged_tfi\u001b[0m\u001b[0;34m)\u001b[0m\u001b[0;34m\u001b[0m\u001b[0m\n\u001b[0;32m---> 13\u001b[0;31m     \u001b[0mols\u001b[0m \u001b[0;34m=\u001b[0m \u001b[0msm\u001b[0m\u001b[0;34m.\u001b[0m\u001b[0mOLS\u001b[0m\u001b[0;34m(\u001b[0m\u001b[0mdmid\u001b[0m\u001b[0;34m,\u001b[0m \u001b[0mtf_\u001b[0m\u001b[0;34m)\u001b[0m\u001b[0;34m.\u001b[0m\u001b[0mfit\u001b[0m\u001b[0;34m(\u001b[0m\u001b[0;34m)\u001b[0m\u001b[0;34m\u001b[0m\u001b[0m\n\u001b[0m\u001b[1;32m     14\u001b[0m     \u001b[0mprint\u001b[0m\u001b[0;34m(\u001b[0m\u001b[0mols\u001b[0m\u001b[0;34m.\u001b[0m\u001b[0msummary2\u001b[0m\u001b[0;34m(\u001b[0m\u001b[0;34m)\u001b[0m\u001b[0;34m)\u001b[0m\u001b[0;34m\u001b[0m\u001b[0m\n",
      "\u001b[0;32m~/backtest/lib/python3.7/site-packages/statsmodels/regression/linear_model.py\u001b[0m in \u001b[0;36m__init__\u001b[0;34m(self, endog, exog, missing, hasconst, **kwargs)\u001b[0m\n\u001b[1;32m    815\u001b[0m                  **kwargs):\n\u001b[1;32m    816\u001b[0m         super(OLS, self).__init__(endog, exog, missing=missing,\n\u001b[0;32m--> 817\u001b[0;31m                                   hasconst=hasconst, **kwargs)\n\u001b[0m\u001b[1;32m    818\u001b[0m         \u001b[0;32mif\u001b[0m \u001b[0;34m\"weights\"\u001b[0m \u001b[0;32min\u001b[0m \u001b[0mself\u001b[0m\u001b[0;34m.\u001b[0m\u001b[0m_init_keys\u001b[0m\u001b[0;34m:\u001b[0m\u001b[0;34m\u001b[0m\u001b[0m\n\u001b[1;32m    819\u001b[0m             \u001b[0mself\u001b[0m\u001b[0;34m.\u001b[0m\u001b[0m_init_keys\u001b[0m\u001b[0;34m.\u001b[0m\u001b[0mremove\u001b[0m\u001b[0;34m(\u001b[0m\u001b[0;34m\"weights\"\u001b[0m\u001b[0;34m)\u001b[0m\u001b[0;34m\u001b[0m\u001b[0m\n",
      "\u001b[0;32m~/backtest/lib/python3.7/site-packages/statsmodels/regression/linear_model.py\u001b[0m in \u001b[0;36m__init__\u001b[0;34m(self, endog, exog, weights, missing, hasconst, **kwargs)\u001b[0m\n\u001b[1;32m    661\u001b[0m             \u001b[0mweights\u001b[0m \u001b[0;34m=\u001b[0m \u001b[0mweights\u001b[0m\u001b[0;34m.\u001b[0m\u001b[0msqueeze\u001b[0m\u001b[0;34m(\u001b[0m\u001b[0;34m)\u001b[0m\u001b[0;34m\u001b[0m\u001b[0m\n\u001b[1;32m    662\u001b[0m         super(WLS, self).__init__(endog, exog, missing=missing,\n\u001b[0;32m--> 663\u001b[0;31m                                   weights=weights, hasconst=hasconst, **kwargs)\n\u001b[0m\u001b[1;32m    664\u001b[0m         \u001b[0mnobs\u001b[0m \u001b[0;34m=\u001b[0m \u001b[0mself\u001b[0m\u001b[0;34m.\u001b[0m\u001b[0mexog\u001b[0m\u001b[0;34m.\u001b[0m\u001b[0mshape\u001b[0m\u001b[0;34m[\u001b[0m\u001b[0;36m0\u001b[0m\u001b[0;34m]\u001b[0m\u001b[0;34m\u001b[0m\u001b[0m\n\u001b[1;32m    665\u001b[0m         \u001b[0mweights\u001b[0m \u001b[0;34m=\u001b[0m \u001b[0mself\u001b[0m\u001b[0;34m.\u001b[0m\u001b[0mweights\u001b[0m\u001b[0;34m\u001b[0m\u001b[0m\n",
      "\u001b[0;32m~/backtest/lib/python3.7/site-packages/statsmodels/regression/linear_model.py\u001b[0m in \u001b[0;36m__init__\u001b[0;34m(self, endog, exog, **kwargs)\u001b[0m\n\u001b[1;32m    177\u001b[0m     \"\"\"\n\u001b[1;32m    178\u001b[0m     \u001b[0;32mdef\u001b[0m \u001b[0m__init__\u001b[0m\u001b[0;34m(\u001b[0m\u001b[0mself\u001b[0m\u001b[0;34m,\u001b[0m \u001b[0mendog\u001b[0m\u001b[0;34m,\u001b[0m \u001b[0mexog\u001b[0m\u001b[0;34m,\u001b[0m \u001b[0;34m**\u001b[0m\u001b[0mkwargs\u001b[0m\u001b[0;34m)\u001b[0m\u001b[0;34m:\u001b[0m\u001b[0;34m\u001b[0m\u001b[0m\n\u001b[0;32m--> 179\u001b[0;31m         \u001b[0msuper\u001b[0m\u001b[0;34m(\u001b[0m\u001b[0mRegressionModel\u001b[0m\u001b[0;34m,\u001b[0m \u001b[0mself\u001b[0m\u001b[0;34m)\u001b[0m\u001b[0;34m.\u001b[0m\u001b[0m__init__\u001b[0m\u001b[0;34m(\u001b[0m\u001b[0mendog\u001b[0m\u001b[0;34m,\u001b[0m \u001b[0mexog\u001b[0m\u001b[0;34m,\u001b[0m \u001b[0;34m**\u001b[0m\u001b[0mkwargs\u001b[0m\u001b[0;34m)\u001b[0m\u001b[0;34m\u001b[0m\u001b[0m\n\u001b[0m\u001b[1;32m    180\u001b[0m         \u001b[0mself\u001b[0m\u001b[0;34m.\u001b[0m\u001b[0m_data_attr\u001b[0m\u001b[0;34m.\u001b[0m\u001b[0mextend\u001b[0m\u001b[0;34m(\u001b[0m\u001b[0;34m[\u001b[0m\u001b[0;34m'pinv_wexog'\u001b[0m\u001b[0;34m,\u001b[0m \u001b[0;34m'wendog'\u001b[0m\u001b[0;34m,\u001b[0m \u001b[0;34m'wexog'\u001b[0m\u001b[0;34m,\u001b[0m \u001b[0;34m'weights'\u001b[0m\u001b[0;34m]\u001b[0m\u001b[0;34m)\u001b[0m\u001b[0;34m\u001b[0m\u001b[0m\n\u001b[1;32m    181\u001b[0m \u001b[0;34m\u001b[0m\u001b[0m\n",
      "\u001b[0;32m~/backtest/lib/python3.7/site-packages/statsmodels/base/model.py\u001b[0m in \u001b[0;36m__init__\u001b[0;34m(self, endog, exog, **kwargs)\u001b[0m\n\u001b[1;32m    210\u001b[0m \u001b[0;34m\u001b[0m\u001b[0m\n\u001b[1;32m    211\u001b[0m     \u001b[0;32mdef\u001b[0m \u001b[0m__init__\u001b[0m\u001b[0;34m(\u001b[0m\u001b[0mself\u001b[0m\u001b[0;34m,\u001b[0m \u001b[0mendog\u001b[0m\u001b[0;34m,\u001b[0m \u001b[0mexog\u001b[0m\u001b[0;34m=\u001b[0m\u001b[0;32mNone\u001b[0m\u001b[0;34m,\u001b[0m \u001b[0;34m**\u001b[0m\u001b[0mkwargs\u001b[0m\u001b[0;34m)\u001b[0m\u001b[0;34m:\u001b[0m\u001b[0;34m\u001b[0m\u001b[0m\n\u001b[0;32m--> 212\u001b[0;31m         \u001b[0msuper\u001b[0m\u001b[0;34m(\u001b[0m\u001b[0mLikelihoodModel\u001b[0m\u001b[0;34m,\u001b[0m \u001b[0mself\u001b[0m\u001b[0;34m)\u001b[0m\u001b[0;34m.\u001b[0m\u001b[0m__init__\u001b[0m\u001b[0;34m(\u001b[0m\u001b[0mendog\u001b[0m\u001b[0;34m,\u001b[0m \u001b[0mexog\u001b[0m\u001b[0;34m,\u001b[0m \u001b[0;34m**\u001b[0m\u001b[0mkwargs\u001b[0m\u001b[0;34m)\u001b[0m\u001b[0;34m\u001b[0m\u001b[0m\n\u001b[0m\u001b[1;32m    213\u001b[0m         \u001b[0mself\u001b[0m\u001b[0;34m.\u001b[0m\u001b[0minitialize\u001b[0m\u001b[0;34m(\u001b[0m\u001b[0;34m)\u001b[0m\u001b[0;34m\u001b[0m\u001b[0m\n\u001b[1;32m    214\u001b[0m \u001b[0;34m\u001b[0m\u001b[0m\n",
      "\u001b[0;32m~/backtest/lib/python3.7/site-packages/statsmodels/base/model.py\u001b[0m in \u001b[0;36m__init__\u001b[0;34m(self, endog, exog, **kwargs)\u001b[0m\n\u001b[1;32m     62\u001b[0m         \u001b[0mhasconst\u001b[0m \u001b[0;34m=\u001b[0m \u001b[0mkwargs\u001b[0m\u001b[0;34m.\u001b[0m\u001b[0mpop\u001b[0m\u001b[0;34m(\u001b[0m\u001b[0;34m'hasconst'\u001b[0m\u001b[0;34m,\u001b[0m \u001b[0;32mNone\u001b[0m\u001b[0;34m)\u001b[0m\u001b[0;34m\u001b[0m\u001b[0m\n\u001b[1;32m     63\u001b[0m         self.data = self._handle_data(endog, exog, missing, hasconst,\n\u001b[0;32m---> 64\u001b[0;31m                                       **kwargs)\n\u001b[0m\u001b[1;32m     65\u001b[0m         \u001b[0mself\u001b[0m\u001b[0;34m.\u001b[0m\u001b[0mk_constant\u001b[0m \u001b[0;34m=\u001b[0m \u001b[0mself\u001b[0m\u001b[0;34m.\u001b[0m\u001b[0mdata\u001b[0m\u001b[0;34m.\u001b[0m\u001b[0mk_constant\u001b[0m\u001b[0;34m\u001b[0m\u001b[0m\n\u001b[1;32m     66\u001b[0m         \u001b[0mself\u001b[0m\u001b[0;34m.\u001b[0m\u001b[0mexog\u001b[0m \u001b[0;34m=\u001b[0m \u001b[0mself\u001b[0m\u001b[0;34m.\u001b[0m\u001b[0mdata\u001b[0m\u001b[0;34m.\u001b[0m\u001b[0mexog\u001b[0m\u001b[0;34m\u001b[0m\u001b[0m\n",
      "\u001b[0;32m~/backtest/lib/python3.7/site-packages/statsmodels/base/model.py\u001b[0m in \u001b[0;36m_handle_data\u001b[0;34m(self, endog, exog, missing, hasconst, **kwargs)\u001b[0m\n\u001b[1;32m     85\u001b[0m \u001b[0;34m\u001b[0m\u001b[0m\n\u001b[1;32m     86\u001b[0m     \u001b[0;32mdef\u001b[0m \u001b[0m_handle_data\u001b[0m\u001b[0;34m(\u001b[0m\u001b[0mself\u001b[0m\u001b[0;34m,\u001b[0m \u001b[0mendog\u001b[0m\u001b[0;34m,\u001b[0m \u001b[0mexog\u001b[0m\u001b[0;34m,\u001b[0m \u001b[0mmissing\u001b[0m\u001b[0;34m,\u001b[0m \u001b[0mhasconst\u001b[0m\u001b[0;34m,\u001b[0m \u001b[0;34m**\u001b[0m\u001b[0mkwargs\u001b[0m\u001b[0;34m)\u001b[0m\u001b[0;34m:\u001b[0m\u001b[0;34m\u001b[0m\u001b[0m\n\u001b[0;32m---> 87\u001b[0;31m         \u001b[0mdata\u001b[0m \u001b[0;34m=\u001b[0m \u001b[0mhandle_data\u001b[0m\u001b[0;34m(\u001b[0m\u001b[0mendog\u001b[0m\u001b[0;34m,\u001b[0m \u001b[0mexog\u001b[0m\u001b[0;34m,\u001b[0m \u001b[0mmissing\u001b[0m\u001b[0;34m,\u001b[0m \u001b[0mhasconst\u001b[0m\u001b[0;34m,\u001b[0m \u001b[0;34m**\u001b[0m\u001b[0mkwargs\u001b[0m\u001b[0;34m)\u001b[0m\u001b[0;34m\u001b[0m\u001b[0m\n\u001b[0m\u001b[1;32m     88\u001b[0m         \u001b[0;31m# kwargs arrays could have changed, easier to just attach here\u001b[0m\u001b[0;34m\u001b[0m\u001b[0;34m\u001b[0m\u001b[0m\n\u001b[1;32m     89\u001b[0m         \u001b[0;32mfor\u001b[0m \u001b[0mkey\u001b[0m \u001b[0;32min\u001b[0m \u001b[0mkwargs\u001b[0m\u001b[0;34m:\u001b[0m\u001b[0;34m\u001b[0m\u001b[0m\n",
      "\u001b[0;32m~/backtest/lib/python3.7/site-packages/statsmodels/base/data.py\u001b[0m in \u001b[0;36mhandle_data\u001b[0;34m(endog, exog, missing, hasconst, **kwargs)\u001b[0m\n\u001b[1;32m    631\u001b[0m     \u001b[0mklass\u001b[0m \u001b[0;34m=\u001b[0m \u001b[0mhandle_data_class_factory\u001b[0m\u001b[0;34m(\u001b[0m\u001b[0mendog\u001b[0m\u001b[0;34m,\u001b[0m \u001b[0mexog\u001b[0m\u001b[0;34m)\u001b[0m\u001b[0;34m\u001b[0m\u001b[0m\n\u001b[1;32m    632\u001b[0m     return klass(endog, exog=exog, missing=missing, hasconst=hasconst,\n\u001b[0;32m--> 633\u001b[0;31m                  **kwargs)\n\u001b[0m",
      "\u001b[0;32m~/backtest/lib/python3.7/site-packages/statsmodels/base/data.py\u001b[0m in \u001b[0;36m__init__\u001b[0;34m(self, endog, exog, missing, hasconst, **kwargs)\u001b[0m\n\u001b[1;32m     77\u001b[0m \u001b[0;34m\u001b[0m\u001b[0m\n\u001b[1;32m     78\u001b[0m         \u001b[0;31m# this has side-effects, attaches k_constant and const_idx\u001b[0m\u001b[0;34m\u001b[0m\u001b[0;34m\u001b[0m\u001b[0m\n\u001b[0;32m---> 79\u001b[0;31m         \u001b[0mself\u001b[0m\u001b[0;34m.\u001b[0m\u001b[0m_handle_constant\u001b[0m\u001b[0;34m(\u001b[0m\u001b[0mhasconst\u001b[0m\u001b[0;34m)\u001b[0m\u001b[0;34m\u001b[0m\u001b[0m\n\u001b[0m\u001b[1;32m     80\u001b[0m         \u001b[0mself\u001b[0m\u001b[0;34m.\u001b[0m\u001b[0m_check_integrity\u001b[0m\u001b[0;34m(\u001b[0m\u001b[0;34m)\u001b[0m\u001b[0;34m\u001b[0m\u001b[0m\n\u001b[1;32m     81\u001b[0m         \u001b[0mself\u001b[0m\u001b[0;34m.\u001b[0m\u001b[0m_cache\u001b[0m \u001b[0;34m=\u001b[0m \u001b[0mresettable_cache\u001b[0m\u001b[0;34m(\u001b[0m\u001b[0;34m)\u001b[0m\u001b[0;34m\u001b[0m\u001b[0m\n",
      "\u001b[0;32m~/backtest/lib/python3.7/site-packages/statsmodels/base/data.py\u001b[0m in \u001b[0;36m_handle_constant\u001b[0;34m(self, hasconst)\u001b[0m\n\u001b[1;32m    131\u001b[0m             \u001b[0mptp_\u001b[0m \u001b[0;34m=\u001b[0m \u001b[0mself\u001b[0m\u001b[0;34m.\u001b[0m\u001b[0mexog\u001b[0m\u001b[0;34m.\u001b[0m\u001b[0mptp\u001b[0m\u001b[0;34m(\u001b[0m\u001b[0maxis\u001b[0m\u001b[0;34m=\u001b[0m\u001b[0;36m0\u001b[0m\u001b[0;34m)\u001b[0m\u001b[0;34m\u001b[0m\u001b[0m\n\u001b[1;32m    132\u001b[0m             \u001b[0;32mif\u001b[0m \u001b[0;32mnot\u001b[0m \u001b[0mnp\u001b[0m\u001b[0;34m.\u001b[0m\u001b[0misfinite\u001b[0m\u001b[0;34m(\u001b[0m\u001b[0mptp_\u001b[0m\u001b[0;34m)\u001b[0m\u001b[0;34m.\u001b[0m\u001b[0mall\u001b[0m\u001b[0;34m(\u001b[0m\u001b[0;34m)\u001b[0m\u001b[0;34m:\u001b[0m\u001b[0;34m\u001b[0m\u001b[0m\n\u001b[0;32m--> 133\u001b[0;31m                 \u001b[0;32mraise\u001b[0m \u001b[0mMissingDataError\u001b[0m\u001b[0;34m(\u001b[0m\u001b[0;34m'exog contains inf or nans'\u001b[0m\u001b[0;34m)\u001b[0m\u001b[0;34m\u001b[0m\u001b[0m\n\u001b[0m\u001b[1;32m    134\u001b[0m             \u001b[0mconst_idx\u001b[0m \u001b[0;34m=\u001b[0m \u001b[0mnp\u001b[0m\u001b[0;34m.\u001b[0m\u001b[0mwhere\u001b[0m\u001b[0;34m(\u001b[0m\u001b[0mptp_\u001b[0m \u001b[0;34m==\u001b[0m \u001b[0;36m0\u001b[0m\u001b[0;34m)\u001b[0m\u001b[0;34m[\u001b[0m\u001b[0;36m0\u001b[0m\u001b[0;34m]\u001b[0m\u001b[0;34m.\u001b[0m\u001b[0msqueeze\u001b[0m\u001b[0;34m(\u001b[0m\u001b[0;34m)\u001b[0m\u001b[0;34m\u001b[0m\u001b[0m\n\u001b[1;32m    135\u001b[0m             \u001b[0mself\u001b[0m\u001b[0;34m.\u001b[0m\u001b[0mk_constant\u001b[0m \u001b[0;34m=\u001b[0m \u001b[0mconst_idx\u001b[0m\u001b[0;34m.\u001b[0m\u001b[0msize\u001b[0m\u001b[0;34m\u001b[0m\u001b[0m\n",
      "\u001b[0;31mMissingDataError\u001b[0m: exog contains inf or nans"
     ]
    },
    {
     "data": {
      "image/png": "[encoded data removed]",
      "text/plain": [
       "<Figure size 864x720 with 1 Axes>"
      ]
     },
     "metadata": {
      "needs_background": "light"
     },
     "output_type": "display_data"
    }
   ],
   "source": [
    "tfi = btcusd_bars['tfi']\n",
    "returns = btcusd_bars['midprice_returns']\n",
    "plot_tfi_and_ols_summary(tfi, returns, '1min')"
   ]
  },
  {
   "cell_type": "code",
   "execution_count": null,
   "metadata": {},
   "outputs": [],
   "source": []
  }
 ],
 "metadata": {
  "kernelspec": {
   "display_name": "Python 3",
   "language": "python",
   "name": "python3"
  },
  "language_info": {
   "codemirror_mode": {
    "name": "ipython",
    "version": 3
   },
   "file_extension": ".py",
   "mimetype": "text/x-python",
   "name": "python",
   "nbconvert_exporter": "python",
   "pygments_lexer": "ipython3",
   "version": "3.7.0"
  },
  "toc": {
   "base_numbering": 1,
   "nav_menu": {},
   "number_sections": true,
   "sideBar": true,
   "skip_h1_title": false,
   "title_cell": "Table of Contents",
   "title_sidebar": "Contents",
   "toc_cell": false,
   "toc_position": {},
   "toc_section_display": true,
   "toc_window_display": false
  },
  "varInspector": {
   "cols": {
    "lenName": 16,
    "lenType": 16,
    "lenVar": 40
   },
   "kernels_config": {
    "python": {
     "delete_cmd_postfix": "",
     "delete_cmd_prefix": "del ",
     "library": "var_list.py",
     "varRefreshCmd": "print(var_dic_list())"
    },
    "r": {
     "delete_cmd_postfix": ") ",
     "delete_cmd_prefix": "rm(",
     "library": "var_list.r",
     "varRefreshCmd": "cat(var_dic_list()) "
    }
   },
   "types_to_exclude": [
    "module",
    "function",
    "builtin_function_or_method",
    "instance",
    "_Feature"
   ],
   "window_display": false
  }
 },
 "nbformat": 4,
 "nbformat_minor": 2
}
