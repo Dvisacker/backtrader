{
 "cells": [
  {
   "cell_type": "code",
   "execution_count": 67,
   "metadata": {},
   "outputs": [],
   "source": [
    "import pandas as pd\n",
    "import numpy as np\n",
    "from utils.csv import create_csv_files, open_convert_csv_files\n",
    "from tqdm import tqdm, tqdm_notebook\n",
    "\n",
    "exchange_name = 'bitmex'\n",
    "symbol = 'EOS/BTC'\n",
    "timeframe = '1m'\n",
    "start = '01/07/2019'\n",
    "end = '05/07/2019'\n",
    "bar_type = 'flow_imbalance_bars'"
   ]
  },
  {
   "cell_type": "code",
   "execution_count": 2,
   "metadata": {},
   "outputs": [],
   "source": [
    "bars = open_convert_csv_files(exchange_name, symbol, timeframe, start, end, bar_type=bar_type)"
   ]
  },
  {
   "cell_type": "code",
   "execution_count": 3,
   "metadata": {},
   "outputs": [],
   "source": [
    "def resample_null_bars(bars):\n",
    "    def custom_fill(row_name):\n",
    "        return lambda row: row['close'] if np.isnan(row[row_name]) else row[row_name]\n",
    "\n",
    "    def custom_null_fill(row_name):\n",
    "        return lambda row: 0 if np.isnan(row[row_name]) else row[row_name]\n",
    "\n",
    "    bars = bars.resample('1min').last()\n",
    "    bars.loc[:, 'close'] = bars.loc[:, 'close'].ffill()\n",
    "    bars['open'] = bars.apply(custom_fill('open'), axis=1)\n",
    "    bars['high'] = bars.apply(custom_fill('high'), axis=1)\n",
    "    bars['low'] = bars.apply(custom_fill('low'), axis=1)\n",
    "\n",
    "    if 'ofi' in bars:\n",
    "        bars['ofi'] = bars.apply(custom_null_fill('ofi'), axis=1)\n",
    "\n",
    "    if 'tfi' in bars:\n",
    "        bars['tfi'] = bars.apply(custom_null_fill('tfi'), axis=1)\n",
    "\n",
    "    if 'vfi' in bars:\n",
    "        bars['vfi'] = bars.apply(custom_null_fill('vfi'), axis=1)\n",
    "\n",
    "    if 'volume' in bars:\n",
    "        bars['volume'] = bars.apply(custom_null_fill('volume'), axis=1)\n",
    "\n",
    "    if 'returns' in bars:\n",
    "        bars['returns'] = bars.apply(custom_null_fill('returns'), axis=1)\n",
    "\n",
    "    if 'midprice_returns' in bars:\n",
    "        bars['midprice_returns'] = bars.apply(\n",
    "            custom_null_fill('midprice_returns'), axis=1)\n",
    "\n",
    "    return bars"
   ]
  },
  {
   "cell_type": "code",
   "execution_count": 61,
   "metadata": {},
   "outputs": [],
   "source": [
    "def getTEvents(gRaw, h):\n",
    "    tEvents, sPos, sNeg = [], 0, 0\n",
    "    diff = np.log(gRaw).diff().dropna()\n",
    "    for i in tqdm(diff.index[1:]):\n",
    "        try:\n",
    "            pos, neg = float(sPos+diff.loc[i]), float(sNeg+diff.loc[i])\n",
    "        except Exception as e:\n",
    "            print(e)\n",
    "            print(sPos+diff.loc[i], type(sPos+diff.loc[i]))\n",
    "            print(sNeg+diff.loc[i], type(sNeg+diff.loc[i]))\n",
    "            break\n",
    "        sPos, sNeg=max(0., pos), min(0., neg)\n",
    "        if sNeg<-h:\n",
    "            sNeg=0;tEvents.append(i)\n",
    "        elif sPos>h:\n",
    "            sPos=0;tEvents.append(i)\n",
    "    return pd.DatetimeIndex(tEvents)\n",
    "\n",
    "\n",
    "\n",
    "\n",
    "\n",
    "def getDailyVol(close,span0=100):\n",
    "    # daily vol reindexed to close\n",
    "    df0=close.index.searchsorted(close.index-pd.Timedelta(days=1))\n",
    "    df0=df0[df0>0]   \n",
    "    df0=(pd.Series(close.index[df0-1], \n",
    "                   index=close.index[close.shape[0]-df0.shape[0]:]))   \n",
    "    try:\n",
    "        df0=close.loc[df0.index]/close.loc[df0.values].values-1 # daily rets\n",
    "    except Exception as e:\n",
    "        print(f'error: {e}\\nplease confirm no duplicate indices')\n",
    "    df0=df0.ewm(span=span0).std().rename('dailyVol')\n",
    "    return df0\n",
    "\n",
    "\n",
    "\n",
    "def getBinsOld(events,close):\n",
    "    #1) prices aligned with events\n",
    "    events_=events.dropna(subset=['t1'])\n",
    "    px=events_.index.union(events_['t1'].values).drop_duplicates()\n",
    "    px=close.reindex(px,method='bfill')\n",
    "    #2) create out object\n",
    "    out=pd.DataFrame(index=events_.index)\n",
    "    out['ret']=px.loc[events_['t1'].values].values/px.loc[events_.index]-1\n",
    "    out['bin']=np.sign(out['ret'])\n",
    "    # where out index and t1 (vertical barrier) intersect label 0\n",
    "    try:\n",
    "        locs = out.query('index in @t1').index\n",
    "        out.loc[locs, 'bin'] = 0\n",
    "    except:\n",
    "        pass\n",
    "    return out\n",
    "\n",
    "def getBins(events, close):\n",
    "    '''\n",
    "    Compute event's outcome (including side information, if provided).\n",
    "    events is a DataFrame where:\n",
    "    -events.index is event's starttime\n",
    "    -events['t1'] is event's endtime\n",
    "    -events['trgt'] is event's target\n",
    "    -events['side'] (optional) implies the algo's position side\n",
    "    Case 1: ('side' not in events): bin in (-1,1) <-label by price action\n",
    "    Case 2: ('side' in events): bin in (0,1) <-label by pnl (meta-labeling)\n",
    "    '''\n",
    "    #1) prices aligned with events\n",
    "    events_=events.dropna(subset=['t1'])\n",
    "    px=events_.index.union(events_['t1'].values).drop_duplicates()\n",
    "    px=close.reindex(px,method='bfill')\n",
    "    #2) create out object\n",
    "    out=pd.DataFrame(index=events_.index)\n",
    "    out['ret']=px.loc[events_['t1'].values].values/px.loc[events_.index]-1\n",
    "    if 'side' in events_:out['ret']*=events_['side'] # meta-labeling\n",
    "    out['bin']=np.sign(out['ret'])\n",
    "    if 'side' in events_:out.loc[out['ret']<=0,'bin']=0 # meta-labeling\n",
    "    return out\n",
    "\n",
    "def dropLabels(events, minPct=.05):\n",
    "    # apply weights, drop labels with insufficient examples\n",
    "    while True:\n",
    "        df0=events['bin'].value_counts(normalize=True)\n",
    "        if df0.min()>minPct or df0.shape[0]<3:break\n",
    "        print('dropped label: ', df0.argmin(),df0.min())\n",
    "        events=events[events['bin']!=df0.argmin()]\n",
    "    return events\n",
    "\n",
    "\n",
    "\n",
    "def processJobs_(jobs):\n",
    "    # Run jobs sequentially, for debugging\n",
    "    out=[]\n",
    "    for job in jobs:\n",
    "        out_=expandCall(job)\n",
    "        out.append(out_)\n",
    "    return out"
   ]
  },
  {
   "cell_type": "code",
   "execution_count": 119,
   "metadata": {},
   "outputs": [],
   "source": [
    "x = resample_null_bars(bars)\n",
    "close = x.close\n",
    "volatility = close.ewm(span=1440).std()\n",
    "volatility = close.ewm(span)"
   ]
  },
  {
   "cell_type": "code",
   "execution_count": 218,
   "metadata": {},
   "outputs": [],
   "source": [
    "def get_daily_volatility(close,time_period=60):\n",
    "    return close.ewm(time_period).std()"
   ]
  },
  {
   "cell_type": "code",
   "execution_count": 219,
   "metadata": {},
   "outputs": [
    {
     "data": {
      "image/png": "[encoded data removed]",
      "text/plain": [
       "<Figure size 432x288 with 1 Axes>"
      ]
     },
     "metadata": {
      "needs_background": "light"
     },
     "output_type": "display_data"
    }
   ],
   "source": [
    "volatility = get_daily_volatility(close)\n",
    "volatility.plot()\n",
    "mean_volatility = volatility.mean()"
   ]
  },
  {
   "cell_type": "code",
   "execution_count": 220,
   "metadata": {},
   "outputs": [
    {
     "data": {
      "text/plain": [
       "<matplotlib.axes._subplots.AxesSubplot at 0x12a596d30>"
      ]
     },
     "execution_count": 220,
     "metadata": {},
     "output_type": "execute_result"
    },
    {
     "data": {
      "image/png": "[encoded data removed]",
      "text/plain": [
       "<Figure size 432x288 with 1 Axes>"
      ]
     },
     "metadata": {
      "needs_background": "light"
     },
     "output_type": "display_data"
    }
   ],
   "source": [
    "close.plot()"
   ]
  },
  {
   "cell_type": "code",
   "execution_count": 221,
   "metadata": {},
   "outputs": [],
   "source": [
    "def getTEvents(close, h):\n",
    "    tEvents, sPos, sNeg = [], 0, 0\n",
    "    diff = np.log(close).diff().dropna()\n",
    "    for i in tqdm(diff.index[1:]):\n",
    "        try:\n",
    "            pos, neg = float(sPos+diff.loc[i]), float(sNeg+diff.loc[i])\n",
    "        except Exception as e:\n",
    "            print(e)\n",
    "            break\n",
    "        sPos, sNeg=max(0., pos), min(0., neg)\n",
    "        \n",
    "        if sNeg<-h:\n",
    "            sNeg=0\n",
    "            tEvents.append(i)\n",
    "        elif sPos>h:\n",
    "            sPos=0\n",
    "            tEvents.append(i)\n",
    "    return pd.DatetimeIndex(tEvents)\n",
    "\n",
    "\n",
    "def addVerticalBarrier(tEvents, close, minutes=30):\n",
    "    t1=close.index.searchsorted(tEvents+pd.Timedelta(minutes=minutes))\n",
    "    t1=t1[t1<close.shape[0]]\n",
    "    t1=(pd.Series(close.index[t1],index=tEvents[:t1.shape[0]]))\n",
    "    return t1\n",
    "\n",
    "def getEvents(close,time_events,volatility,minimum_return,intervals):\n",
    "    #1) compute thresholds\n",
    "    threshold=volatility.loc[time_events]\n",
    "    threshold=threshold[threshold>minimum_return]\n",
    "#     print(threshold)\n",
    "            \n",
    "#   3) form events object, apply stop loss on the vertical barriers\n",
    "    side=pd.Series(1.,index=threshold.index)\n",
    "    events=pd.concat({'intervals': intervals, 'threshold': threshold,'side': side }, axis=1).dropna(subset=['threshold'])    \n",
    "    print(events)\n",
    "#     df0 = apply_profit_taking_and_stop_losses(close, events)\n",
    "#     print(df0.head())\n",
    "#     events['intervals']=df0.dropna(how='all').min(axis=1) # pd.min ignores nan\n",
    "#     events=events.drop('side',axis=1)\n",
    "    \n",
    "#     return events\n",
    "\n",
    "\n",
    "def apply_profit_taking_and_stop_losses(close,events):\n",
    "    out = events[['intervals']].copy(deep=True)\n",
    "    take_profits=events['threshold']\n",
    "    stop_losses=-events['threshold']\n",
    "\n",
    "    for start,end in events['intervals'].fillna(close.index[-1]).iteritems():\n",
    "        df0=close[start:end] # path prices\n",
    "        df0=(df0/close[start]-1)*events.at[start,'side'] # path returns\n",
    "        out.loc[start,'stop_loss']=df0[df0<stop_losses[start]].index.min() # earliest stop loss.\n",
    "        out.loc[start,'take_profit']=df0[df0>take_profits[start]].index.min() # earliest profit taking.\n",
    "        \n",
    "    return out"
   ]
  },
  {
   "cell_type": "code",
   "execution_count": 225,
   "metadata": {},
   "outputs": [
    {
     "name": "stderr",
     "output_type": "stream",
     "text": [
      "100%|██████████| 5755/5755 [00:01<00:00, 4332.44it/s]\n"
     ]
    }
   ],
   "source": [
    "horizontal_barrier_threshold = mean_volatility\n",
    "minimum_return = 1.5*mean_volatility\n",
    "time_events = getTEvents(close, h=horizontal_barrier_threshold)"
   ]
  },
  {
   "cell_type": "code",
   "execution_count": 226,
   "metadata": {},
   "outputs": [],
   "source": [
    "intervals = addVerticalBarrier(time_events, close, minutes=30)"
   ]
  },
  {
   "cell_type": "code",
   "execution_count": 227,
   "metadata": {},
   "outputs": [
    {
     "name": "stdout",
     "output_type": "stream",
     "text": [
      "2019-06-30 22:19:00-04:00    0.000005\n",
      "2019-06-30 22:20:00-04:00    0.000005\n",
      "2019-06-30 22:21:00-04:00    0.000005\n",
      "2019-06-30 22:22:00-04:00    0.000005\n",
      "2019-06-30 22:23:00-04:00    0.000005\n",
      "2019-06-30 22:25:00-04:00    0.000005\n",
      "2019-07-01 09:04:00-04:00    0.000005\n",
      "2019-07-01 09:09:00-04:00    0.000005\n",
      "2019-07-01 09:10:00-04:00    0.000005\n",
      "2019-07-01 09:11:00-04:00    0.000005\n",
      "2019-07-01 09:12:00-04:00    0.000005\n",
      "2019-07-01 09:13:00-04:00    0.000005\n",
      "2019-07-01 09:15:00-04:00    0.000005\n",
      "2019-07-01 09:17:00-04:00    0.000005\n",
      "2019-07-01 09:21:00-04:00    0.000005\n",
      "2019-07-01 09:22:00-04:00    0.000005\n",
      "2019-07-01 09:23:00-04:00    0.000005\n",
      "2019-07-01 09:24:00-04:00    0.000005\n",
      "2019-07-01 09:25:00-04:00    0.000005\n",
      "2019-07-01 09:26:00-04:00    0.000006\n",
      "2019-07-01 09:27:00-04:00    0.000006\n",
      "2019-07-01 09:28:00-04:00    0.000006\n",
      "2019-07-01 09:29:00-04:00    0.000006\n",
      "2019-07-01 09:30:00-04:00    0.000006\n",
      "2019-07-01 09:31:00-04:00    0.000006\n",
      "2019-07-01 09:34:00-04:00    0.000006\n",
      "2019-07-01 09:36:00-04:00    0.000006\n",
      "2019-07-01 09:37:00-04:00    0.000006\n",
      "2019-07-01 09:42:00-04:00    0.000006\n",
      "2019-07-01 09:43:00-04:00    0.000006\n",
      "                               ...   \n",
      "2019-07-03 20:17:00-04:00    0.000007\n",
      "2019-07-03 20:21:00-04:00    0.000007\n",
      "2019-07-03 20:22:00-04:00    0.000007\n",
      "2019-07-03 20:23:00-04:00    0.000007\n",
      "2019-07-03 20:24:00-04:00    0.000007\n",
      "2019-07-03 20:28:00-04:00    0.000006\n",
      "2019-07-03 20:32:00-04:00    0.000006\n",
      "2019-07-03 20:35:00-04:00    0.000006\n",
      "2019-07-03 20:36:00-04:00    0.000006\n",
      "2019-07-03 20:37:00-04:00    0.000006\n",
      "2019-07-03 20:38:00-04:00    0.000006\n",
      "2019-07-03 20:39:00-04:00    0.000006\n",
      "2019-07-03 20:40:00-04:00    0.000006\n",
      "2019-07-03 20:49:00-04:00    0.000006\n",
      "2019-07-03 20:50:00-04:00    0.000006\n",
      "2019-07-03 20:53:00-04:00    0.000006\n",
      "2019-07-03 20:54:00-04:00    0.000006\n",
      "2019-07-03 20:55:00-04:00    0.000006\n",
      "2019-07-03 20:57:00-04:00    0.000005\n",
      "2019-07-03 21:00:00-04:00    0.000005\n",
      "2019-07-03 21:01:00-04:00    0.000005\n",
      "2019-07-03 21:02:00-04:00    0.000005\n",
      "2019-07-03 21:03:00-04:00    0.000005\n",
      "2019-07-03 21:04:00-04:00    0.000005\n",
      "2019-07-03 21:07:00-04:00    0.000005\n",
      "2019-07-03 21:09:00-04:00    0.000005\n",
      "2019-07-03 21:10:00-04:00    0.000005\n",
      "2019-07-03 21:11:00-04:00    0.000005\n",
      "2019-07-03 21:15:00-04:00    0.000005\n",
      "2019-07-03 21:20:00-04:00    0.000005\n",
      "Name: close, Length: 623, dtype: float64\n"
     ]
    }
   ],
   "source": [
    "events = getEvents(close,time_events,volatility,minimum_return,intervals=intervals)"
   ]
  },
  {
   "cell_type": "code",
   "execution_count": 205,
   "metadata": {},
   "outputs": [
    {
     "name": "stdout",
     "output_type": "stream",
     "text": [
      "None\n"
     ]
    }
   ],
   "source": [
    "print(events)"
   ]
  },
  {
   "cell_type": "code",
   "execution_count": null,
   "metadata": {},
   "outputs": [],
   "source": []
  }
 ],
 "metadata": {
  "kernelspec": {
   "display_name": "Python 3",
   "language": "python",
   "name": "python3"
  },
  "language_info": {
   "codemirror_mode": {
    "name": "ipython",
    "version": 3
   },
   "file_extension": ".py",
   "mimetype": "text/x-python",
   "name": "python",
   "nbconvert_exporter": "python",
   "pygments_lexer": "ipython3",
   "version": "3.7.0"
  },
  "toc": {
   "base_numbering": 1,
   "nav_menu": {},
   "number_sections": true,
   "sideBar": true,
   "skip_h1_title": false,
   "title_cell": "Table of Contents",
   "title_sidebar": "Contents",
   "toc_cell": false,
   "toc_position": {},
   "toc_section_display": true,
   "toc_window_display": false
  },
  "varInspector": {
   "cols": {
    "lenName": 16,
    "lenType": 16,
    "lenVar": 40
   },
   "kernels_config": {
    "python": {
     "delete_cmd_postfix": "",
     "delete_cmd_prefix": "del ",
     "library": "var_list.py",
     "varRefreshCmd": "print(var_dic_list())"
    },
    "r": {
     "delete_cmd_postfix": ") ",
     "delete_cmd_prefix": "rm(",
     "library": "var_list.r",
     "varRefreshCmd": "cat(var_dic_list()) "
    }
   },
   "types_to_exclude": [
    "module",
    "function",
    "builtin_function_or_method",
    "instance",
    "_Feature"
   ],
   "window_display": false
  }
 },
 "nbformat": 4,
 "nbformat_minor": 2
}
